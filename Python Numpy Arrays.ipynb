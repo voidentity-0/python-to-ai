{
 "cells": [
  {
   "cell_type": "markdown",
   "id": "f2c5b238-08ff-4821-9abe-0368cd9886f1",
   "metadata": {},
   "source": [
    "## Python Numpy Arrays "
   ]
  },
  {
   "cell_type": "markdown",
   "id": "1a014acd-3f22-4473-a00f-46267d8f52b7",
   "metadata": {},
   "source": [
    "## Numpy Tutorials\n",
    "NumPy is a general-purpose array-processing package. It provides a high-performance multidimensional array object, and tools for working with these arrays. It is the fundamental package for scientific computing with Python"
   ]
  },
  {
   "cell_type": "markdown",
   "id": "599bfdf0-567a-4a4f-b91c-f48a02e1e453",
   "metadata": {},
   "source": [
    "## What is an array\n",
    "An array is a data structure that stores values of same data type. In Python, this is the main difference between arrays and lists. While python lists can contain values corresponding to different data types, arrays in python can only contain values corresponding to same data type"
   ]
  },
  {
   "cell_type": "code",
   "execution_count": 1,
   "id": "e5aea0c4-8f61-4d87-9cfe-dbd8fe526959",
   "metadata": {},
   "outputs": [],
   "source": [
    "## import the library\n",
    "import numpy as np"
   ]
  },
  {
   "cell_type": "code",
   "execution_count": 2,
   "id": "58e90caa-7d5c-4f42-8034-54dd5a9307cd",
   "metadata": {},
   "outputs": [
    {
     "name": "stdout",
     "output_type": "stream",
     "text": [
      "[22 44 66 88]\n"
     ]
    }
   ],
   "source": [
    "lst = [22,44,66,88]\n",
    "arr = np.array(lst)\n",
    "print(arr)"
   ]
  },
  {
   "cell_type": "code",
   "execution_count": 3,
   "id": "20357115-8b7f-41a5-9714-18e6671b2dd0",
   "metadata": {},
   "outputs": [
    {
     "data": {
      "text/plain": [
       "array([22, 44, 66, 88])"
      ]
     },
     "execution_count": 3,
     "metadata": {},
     "output_type": "execute_result"
    }
   ],
   "source": [
    "np.array(lst)"
   ]
  },
  {
   "cell_type": "code",
   "execution_count": 11,
   "id": "be1cfba2-cb37-4efa-95ce-f1ac86ea2476",
   "metadata": {},
   "outputs": [
    {
     "data": {
      "text/plain": [
       "(4,)"
      ]
     },
     "execution_count": 11,
     "metadata": {},
     "output_type": "execute_result"
    }
   ],
   "source": [
    "np.shape(arr)"
   ]
  },
  {
   "cell_type": "code",
   "execution_count": 4,
   "id": "85e8ce44-64c3-4a15-8e96-280c7c40bc9e",
   "metadata": {},
   "outputs": [
    {
     "data": {
      "text/plain": [
       "numpy.ndarray"
      ]
     },
     "execution_count": 4,
     "metadata": {},
     "output_type": "execute_result"
    }
   ],
   "source": [
    "type(arr)"
   ]
  },
  {
   "cell_type": "code",
   "execution_count": 5,
   "id": "34b371b2-add8-4a98-92c8-4fe11bb8787c",
   "metadata": {},
   "outputs": [
    {
     "data": {
      "text/plain": [
       "array([22, 44, 66, 88])"
      ]
     },
     "execution_count": 5,
     "metadata": {},
     "output_type": "execute_result"
    }
   ],
   "source": [
    "arr"
   ]
  },
  {
   "cell_type": "code",
   "execution_count": 8,
   "id": "74eb4bc1-b0fe-4623-9597-505d41771264",
   "metadata": {},
   "outputs": [],
   "source": [
    "lst1=[22,44,66,88]\n",
    "lst2=[11,33,55,77]\n",
    "lst3=[1,2,3,4]\n",
    "arr1 = np.array([lst1,lst2,lst3])"
   ]
  },
  {
   "cell_type": "code",
   "execution_count": 9,
   "id": "e4a393bf-8ab4-437b-af2f-30e6074c1396",
   "metadata": {},
   "outputs": [
    {
     "data": {
      "text/plain": [
       "array([[22, 44, 66, 88],\n",
       "       [11, 33, 55, 77],\n",
       "       [ 1,  2,  3,  4]])"
      ]
     },
     "execution_count": 9,
     "metadata": {},
     "output_type": "execute_result"
    }
   ],
   "source": [
    "arr1"
   ]
  },
  {
   "cell_type": "code",
   "execution_count": 12,
   "id": "ff60be40-9163-4e46-848e-0ed8dd2dab35",
   "metadata": {},
   "outputs": [
    {
     "data": {
      "text/plain": [
       "(3, 4)"
      ]
     },
     "execution_count": 12,
     "metadata": {},
     "output_type": "execute_result"
    }
   ],
   "source": [
    "np.shape(arr1)"
   ]
  },
  {
   "cell_type": "code",
   "execution_count": 10,
   "id": "e53a2f85-7d0c-4690-bef2-533031dc85bd",
   "metadata": {},
   "outputs": [
    {
     "data": {
      "text/plain": [
       "numpy.ndarray"
      ]
     },
     "execution_count": 10,
     "metadata": {},
     "output_type": "execute_result"
    }
   ],
   "source": [
    "type(arr1)"
   ]
  },
  {
   "cell_type": "code",
   "execution_count": 14,
   "id": "11b0076f-1f9a-4221-a65e-2c2dca4871b9",
   "metadata": {},
   "outputs": [
    {
     "data": {
      "text/plain": [
       "array([22, 44, 66, 88])"
      ]
     },
     "execution_count": 14,
     "metadata": {},
     "output_type": "execute_result"
    }
   ],
   "source": [
    "arr"
   ]
  },
  {
   "cell_type": "code",
   "execution_count": 15,
   "id": "ee9f54ea-70e8-4a24-a9ae-40c54e60fd21",
   "metadata": {},
   "outputs": [
    {
     "data": {
      "text/plain": [
       "np.int64(88)"
      ]
     },
     "execution_count": 15,
     "metadata": {},
     "output_type": "execute_result"
    }
   ],
   "source": [
    "#indexing\n",
    "arr[3]"
   ]
  },
  {
   "cell_type": "code",
   "execution_count": 17,
   "id": "c4739507-9727-49ac-b66a-c8423aedfefd",
   "metadata": {},
   "outputs": [],
   "source": [
    "arr[3]=55"
   ]
  },
  {
   "cell_type": "code",
   "execution_count": 18,
   "id": "675a6678-8c91-4abb-9684-99b6b60771fe",
   "metadata": {},
   "outputs": [
    {
     "data": {
      "text/plain": [
       "array([22, 44, 66, 55])"
      ]
     },
     "execution_count": 18,
     "metadata": {},
     "output_type": "execute_result"
    }
   ],
   "source": [
    "arr"
   ]
  },
  {
   "cell_type": "code",
   "execution_count": 19,
   "id": "ba56e0ac-8a87-4e3f-a426-d8ed1c1f6a6d",
   "metadata": {},
   "outputs": [
    {
     "data": {
      "text/plain": [
       "array([22, 44, 66, 55])"
      ]
     },
     "execution_count": 19,
     "metadata": {},
     "output_type": "execute_result"
    }
   ],
   "source": [
    "arr[:]"
   ]
  },
  {
   "cell_type": "code",
   "execution_count": 20,
   "id": "c6cd1ff7-11bd-4519-bb3d-ae74a3f1220f",
   "metadata": {},
   "outputs": [
    {
     "data": {
      "text/plain": [
       "array([66])"
      ]
     },
     "execution_count": 20,
     "metadata": {},
     "output_type": "execute_result"
    }
   ],
   "source": [
    "arr[2:3]"
   ]
  },
  {
   "cell_type": "code",
   "execution_count": 21,
   "id": "f5481b77-e828-473f-89b1-0e98eb9566cb",
   "metadata": {},
   "outputs": [
    {
     "data": {
      "text/plain": [
       "array([22, 44, 66, 55])"
      ]
     },
     "execution_count": 21,
     "metadata": {},
     "output_type": "execute_result"
    }
   ],
   "source": [
    "arr[::]"
   ]
  },
  {
   "cell_type": "code",
   "execution_count": 22,
   "id": "546ff3ac-a706-4211-8b44-87049e49dabd",
   "metadata": {},
   "outputs": [
    {
     "data": {
      "text/plain": [
       "np.int64(55)"
      ]
     },
     "execution_count": 22,
     "metadata": {},
     "output_type": "execute_result"
    }
   ],
   "source": [
    "arr[-1]"
   ]
  },
  {
   "cell_type": "code",
   "execution_count": 23,
   "id": "b86e21a6-d12e-4db0-9a5b-5ef7ad55cd9c",
   "metadata": {},
   "outputs": [
    {
     "data": {
      "text/plain": [
       "np.int64(66)"
      ]
     },
     "execution_count": 23,
     "metadata": {},
     "output_type": "execute_result"
    }
   ],
   "source": [
    "arr[-2]"
   ]
  },
  {
   "cell_type": "code",
   "execution_count": 24,
   "id": "591bc277-f2ee-4560-9977-eb47c2ebcd72",
   "metadata": {},
   "outputs": [
    {
     "data": {
      "text/plain": [
       "array([55, 66, 44, 22])"
      ]
     },
     "execution_count": 24,
     "metadata": {},
     "output_type": "execute_result"
    }
   ],
   "source": [
    "arr[::-1]"
   ]
  },
  {
   "cell_type": "code",
   "execution_count": 25,
   "id": "90c5cf1b-459c-4283-87fc-94c058e8bf63",
   "metadata": {},
   "outputs": [
    {
     "data": {
      "text/plain": [
       "array([22, 44, 66])"
      ]
     },
     "execution_count": 25,
     "metadata": {},
     "output_type": "execute_result"
    }
   ],
   "source": [
    "arr[:-1]"
   ]
  },
  {
   "cell_type": "code",
   "execution_count": 26,
   "id": "75bc8cb0-5474-4100-8768-0a3303f84c59",
   "metadata": {},
   "outputs": [
    {
     "data": {
      "text/plain": [
       "array([55, 44])"
      ]
     },
     "execution_count": 26,
     "metadata": {},
     "output_type": "execute_result"
    }
   ],
   "source": [
    "arr[::-2]"
   ]
  },
  {
   "cell_type": "code",
   "execution_count": 27,
   "id": "ab8373d6-09db-4b34-8fc9-cda684338418",
   "metadata": {},
   "outputs": [
    {
     "data": {
      "text/plain": [
       "array([55, 22])"
      ]
     },
     "execution_count": 27,
     "metadata": {},
     "output_type": "execute_result"
    }
   ],
   "source": [
    "arr[::-3]"
   ]
  },
  {
   "cell_type": "code",
   "execution_count": 28,
   "id": "38ebe2ec-aaca-4a81-9fd4-f0775e5e8f0d",
   "metadata": {},
   "outputs": [
    {
     "data": {
      "text/plain": [
       "array([22, 44, 66, 55])"
      ]
     },
     "execution_count": 28,
     "metadata": {},
     "output_type": "execute_result"
    }
   ],
   "source": [
    "arr"
   ]
  },
  {
   "cell_type": "code",
   "execution_count": 29,
   "id": "d4f2d4b8-0aa6-48e7-9e76-2099559c3b9c",
   "metadata": {},
   "outputs": [
    {
     "data": {
      "text/plain": [
       "array([[22, 44, 66, 88],\n",
       "       [11, 33, 55, 77],\n",
       "       [ 1,  2,  3,  4]])"
      ]
     },
     "execution_count": 29,
     "metadata": {},
     "output_type": "execute_result"
    }
   ],
   "source": [
    "arr1"
   ]
  },
  {
   "cell_type": "code",
   "execution_count": 31,
   "id": "0f215def-9a78-437b-8ebc-9205b3912a09",
   "metadata": {},
   "outputs": [
    {
     "data": {
      "text/plain": [
       "array([88, 77,  4])"
      ]
     },
     "execution_count": 31,
     "metadata": {},
     "output_type": "execute_result"
    }
   ],
   "source": [
    "##    [row , column]  \n",
    "arr1[:,3]"
   ]
  },
  {
   "cell_type": "code",
   "execution_count": 33,
   "id": "f51af8b0-df5d-40dd-8788-e00a08240820",
   "metadata": {},
   "outputs": [
    {
     "data": {
      "text/plain": [
       "array([11, 33, 55, 77])"
      ]
     },
     "execution_count": 33,
     "metadata": {},
     "output_type": "execute_result"
    }
   ],
   "source": [
    "arr1[1,:]"
   ]
  },
  {
   "cell_type": "code",
   "execution_count": 35,
   "id": "4fe55344-d136-4fb7-93a4-851210958382",
   "metadata": {},
   "outputs": [
    {
     "data": {
      "text/plain": [
       "array([[55, 77],\n",
       "       [ 3,  4]])"
      ]
     },
     "execution_count": 35,
     "metadata": {},
     "output_type": "execute_result"
    }
   ],
   "source": [
    "arr1[1:,2:]"
   ]
  },
  {
   "cell_type": "code",
   "execution_count": 39,
   "id": "f9be67a2-4698-4cc6-a6f2-7b324872a7fc",
   "metadata": {},
   "outputs": [
    {
     "data": {
      "text/plain": [
       "array([[66, 88],\n",
       "       [55, 77],\n",
       "       [ 3,  4]])"
      ]
     },
     "execution_count": 39,
     "metadata": {},
     "output_type": "execute_result"
    }
   ],
   "source": [
    "arr1[0:,2:]"
   ]
  },
  {
   "cell_type": "code",
   "execution_count": 40,
   "id": "d41b4412-5743-4d2d-a123-33718dbac97c",
   "metadata": {},
   "outputs": [
    {
     "data": {
      "text/plain": [
       "(3, 2)"
      ]
     },
     "execution_count": 40,
     "metadata": {},
     "output_type": "execute_result"
    }
   ],
   "source": [
    "arr1[0:,2:].shape"
   ]
  },
  {
   "cell_type": "code",
   "execution_count": 41,
   "id": "0629ce09-d5ba-4688-8220-a0dd89a54723",
   "metadata": {},
   "outputs": [
    {
     "data": {
      "text/plain": [
       "array([[22, 44, 66, 88],\n",
       "       [11, 33, 55, 77],\n",
       "       [ 1,  2,  3,  4]])"
      ]
     },
     "execution_count": 41,
     "metadata": {},
     "output_type": "execute_result"
    }
   ],
   "source": [
    "## Pick 3 rows and column 0 and column 3\n",
    "arr1"
   ]
  },
  {
   "cell_type": "code",
   "execution_count": 43,
   "id": "3e86e2ea-a3f2-4254-9f89-61e366a09020",
   "metadata": {},
   "outputs": [
    {
     "data": {
      "text/plain": [
       "array([[22, 88],\n",
       "       [11, 77],\n",
       "       [ 1,  4]])"
      ]
     },
     "execution_count": 43,
     "metadata": {},
     "output_type": "execute_result"
    }
   ],
   "source": [
    "arr1[:,::3]"
   ]
  },
  {
   "cell_type": "code",
   "execution_count": 45,
   "id": "6ed580cd-268f-4a58-b6bf-20cfc0b83679",
   "metadata": {},
   "outputs": [
    {
     "data": {
      "text/plain": [
       "array([22, 44, 66, 55])"
      ]
     },
     "execution_count": 45,
     "metadata": {},
     "output_type": "execute_result"
    }
   ],
   "source": [
    "## EDA\n",
    "arr"
   ]
  },
  {
   "cell_type": "code",
   "execution_count": 46,
   "id": "d39ba967-ff32-4e60-bddc-10379e566ed9",
   "metadata": {},
   "outputs": [
    {
     "data": {
      "text/plain": [
       "array([ True,  True,  True, False])"
      ]
     },
     "execution_count": 46,
     "metadata": {},
     "output_type": "execute_result"
    }
   ],
   "source": [
    "arr%2==0"
   ]
  },
  {
   "cell_type": "code",
   "execution_count": 47,
   "id": "da7e6696-fc87-4452-b238-b5693734f795",
   "metadata": {},
   "outputs": [
    {
     "data": {
      "text/plain": [
       "array([22, 44, 66])"
      ]
     },
     "execution_count": 47,
     "metadata": {},
     "output_type": "execute_result"
    }
   ],
   "source": [
    "arr[arr%2==0]"
   ]
  },
  {
   "cell_type": "code",
   "execution_count": 48,
   "id": "6371bc29-1183-4521-90ff-31570b5aabfe",
   "metadata": {},
   "outputs": [
    {
     "data": {
      "text/plain": [
       "array([ 44,  88, 132, 110])"
      ]
     },
     "execution_count": 48,
     "metadata": {},
     "output_type": "execute_result"
    }
   ],
   "source": [
    "arr*2"
   ]
  },
  {
   "cell_type": "code",
   "execution_count": 52,
   "id": "940339cc-e252-4e3d-bd0e-4f1dface398f",
   "metadata": {},
   "outputs": [
    {
     "data": {
      "text/plain": [
       "array([ 484, 1936, 4356, 3025])"
      ]
     },
     "execution_count": 52,
     "metadata": {},
     "output_type": "execute_result"
    }
   ],
   "source": [
    "arr**2"
   ]
  },
  {
   "cell_type": "code",
   "execution_count": 50,
   "id": "a5f0d20e-3ab3-4303-840c-1d64ed593ea1",
   "metadata": {},
   "outputs": [
    {
     "data": {
      "text/plain": [
       "array([22, 44, 66, 55])"
      ]
     },
     "execution_count": 50,
     "metadata": {},
     "output_type": "execute_result"
    }
   ],
   "source": [
    "arr"
   ]
  },
  {
   "cell_type": "code",
   "execution_count": 54,
   "id": "ab736b19-a581-4976-892b-0e7ec6f7bdff",
   "metadata": {},
   "outputs": [
    {
     "data": {
      "text/plain": [
       "array([ True,  True, False, False])"
      ]
     },
     "execution_count": 54,
     "metadata": {},
     "output_type": "execute_result"
    }
   ],
   "source": [
    "arr<50"
   ]
  },
  {
   "cell_type": "code",
   "execution_count": 55,
   "id": "ef45bb83-df55-46e6-9541-fa66c5043a24",
   "metadata": {},
   "outputs": [
    {
     "data": {
      "text/plain": [
       "array([22, 44])"
      ]
     },
     "execution_count": 55,
     "metadata": {},
     "output_type": "execute_result"
    }
   ],
   "source": [
    "arr[arr<50]"
   ]
  },
  {
   "cell_type": "code",
   "execution_count": 56,
   "id": "b7f83276-1a22-4abc-8fe1-464ba982596b",
   "metadata": {},
   "outputs": [
    {
     "data": {
      "text/plain": [
       "array([[22, 44, 66, 88],\n",
       "       [11, 33, 55, 77],\n",
       "       [ 1,  2,  3,  4]])"
      ]
     },
     "execution_count": 56,
     "metadata": {},
     "output_type": "execute_result"
    }
   ],
   "source": [
    "arr1"
   ]
  },
  {
   "cell_type": "code",
   "execution_count": 57,
   "id": "39fd9358-9178-4303-bf02-acb5b2a99425",
   "metadata": {},
   "outputs": [
    {
     "data": {
      "text/plain": [
       "(3, 4)"
      ]
     },
     "execution_count": 57,
     "metadata": {},
     "output_type": "execute_result"
    }
   ],
   "source": [
    "arr1.shape"
   ]
  },
  {
   "cell_type": "code",
   "execution_count": 58,
   "id": "5259e75d-9d27-4977-a504-b2599bd2312e",
   "metadata": {},
   "outputs": [
    {
     "data": {
      "text/plain": [
       "array([[22, 44, 66],\n",
       "       [88, 11, 33],\n",
       "       [55, 77,  1],\n",
       "       [ 2,  3,  4]])"
      ]
     },
     "execution_count": 58,
     "metadata": {},
     "output_type": "execute_result"
    }
   ],
   "source": [
    "## To change shape\n",
    "arr1.reshape(4,3)"
   ]
  },
  {
   "cell_type": "code",
   "execution_count": 126,
   "id": "a43a38cd-7b63-4b34-a151-5d40c34289dd",
   "metadata": {},
   "outputs": [
    {
     "data": {
      "text/plain": [
       "array([ 1,  2,  3,  4,  5,  6,  7,  8,  9, 10, 11, 12, 13, 14, 15, 16, 17,\n",
       "       18, 19, 20])"
      ]
     },
     "execution_count": 126,
     "metadata": {},
     "output_type": "execute_result"
    }
   ],
   "source": [
    "## mechanism to create an array\n",
    "arr3 = np .arange(1,21,1)\n",
    "arr3"
   ]
  },
  {
   "cell_type": "code",
   "execution_count": 77,
   "id": "d2484e70-ebae-4b6a-b574-3b7612312937",
   "metadata": {},
   "outputs": [],
   "source": [
    "arr3 = np .arange(1,21,1).reshape(2,10,1)"
   ]
  },
  {
   "cell_type": "code",
   "execution_count": 78,
   "id": "3633f8b9-a91e-44e2-a708-c18d701fb90c",
   "metadata": {},
   "outputs": [
    {
     "data": {
      "text/plain": [
       "array([[[ 1],\n",
       "        [ 2],\n",
       "        [ 3],\n",
       "        [ 4],\n",
       "        [ 5],\n",
       "        [ 6],\n",
       "        [ 7],\n",
       "        [ 8],\n",
       "        [ 9],\n",
       "        [10]],\n",
       "\n",
       "       [[11],\n",
       "        [12],\n",
       "        [13],\n",
       "        [14],\n",
       "        [15],\n",
       "        [16],\n",
       "        [17],\n",
       "        [18],\n",
       "        [19],\n",
       "        [20]]])"
      ]
     },
     "execution_count": 78,
     "metadata": {},
     "output_type": "execute_result"
    }
   ],
   "source": [
    "arr3"
   ]
  },
  {
   "cell_type": "code",
   "execution_count": 80,
   "id": "31993609-9a5a-42e6-911e-269fc26f3d01",
   "metadata": {},
   "outputs": [
    {
     "data": {
      "text/plain": [
       "(20,)"
      ]
     },
     "execution_count": 80,
     "metadata": {},
     "output_type": "execute_result"
    }
   ],
   "source": [
    "arr3.shape"
   ]
  },
  {
   "cell_type": "code",
   "execution_count": 85,
   "id": "5ed9f0c6-f41b-40dc-aef8-0bf21d14a0c2",
   "metadata": {},
   "outputs": [
    {
     "data": {
      "text/plain": [
       "array([[[ 1,  2],\n",
       "        [ 3,  4],\n",
       "        [ 5,  6],\n",
       "        [ 7,  8],\n",
       "        [ 9, 10],\n",
       "        [11, 12],\n",
       "        [13, 14],\n",
       "        [15, 16],\n",
       "        [17, 18],\n",
       "        [19, 20]]])"
      ]
     },
     "execution_count": 85,
     "metadata": {},
     "output_type": "execute_result"
    }
   ],
   "source": [
    "arr3.reshape(1,10,2)"
   ]
  },
  {
   "cell_type": "code",
   "execution_count": 87,
   "id": "153eeb10-a564-4825-b6a0-88ef62763310",
   "metadata": {},
   "outputs": [
    {
     "data": {
      "text/plain": [
       "array([[[ 1,  2],\n",
       "        [ 3,  4],\n",
       "        [ 5,  6],\n",
       "        [ 7,  8],\n",
       "        [ 9, 10]],\n",
       "\n",
       "       [[11, 12],\n",
       "        [13, 14],\n",
       "        [15, 16],\n",
       "        [17, 18],\n",
       "        [19, 20]]])"
      ]
     },
     "execution_count": 87,
     "metadata": {},
     "output_type": "execute_result"
    }
   ],
   "source": [
    "arr3.reshape(2,5,2)     ## the thing is to divide equally, that how many elements"
   ]
  },
  {
   "cell_type": "code",
   "execution_count": 88,
   "id": "dc65665e-7790-405c-ab99-755a29bfeec1",
   "metadata": {},
   "outputs": [
    {
     "data": {
      "text/plain": [
       "array([[ 484, 1936, 4356, 7744],\n",
       "       [ 121, 1089, 3025, 5929],\n",
       "       [   1,    4,    9,   16]])"
      ]
     },
     "execution_count": 88,
     "metadata": {},
     "output_type": "execute_result"
    }
   ],
   "source": [
    "arr1 * arr1"
   ]
  },
  {
   "cell_type": "code",
   "execution_count": 89,
   "id": "06c86cfb-b2ab-4a16-b17c-cb413b740eeb",
   "metadata": {},
   "outputs": [
    {
     "data": {
      "text/plain": [
       "array([[22, 44, 66, 88],\n",
       "       [11, 33, 55, 77],\n",
       "       [ 1,  2,  3,  4]])"
      ]
     },
     "execution_count": 89,
     "metadata": {},
     "output_type": "execute_result"
    }
   ],
   "source": [
    "arr1"
   ]
  },
  {
   "cell_type": "code",
   "execution_count": 90,
   "id": "221c0d4c-9c7f-4af5-8d33-d3116d7bf145",
   "metadata": {},
   "outputs": [
    {
     "data": {
      "text/plain": [
       "array([[1., 1., 1., 1., 1.],\n",
       "       [1., 1., 1., 1., 1.],\n",
       "       [1., 1., 1., 1., 1.],\n",
       "       [1., 1., 1., 1., 1.]])"
      ]
     },
     "execution_count": 90,
     "metadata": {},
     "output_type": "execute_result"
    }
   ],
   "source": [
    "np.ones((4,5))"
   ]
  },
  {
   "cell_type": "code",
   "execution_count": 91,
   "id": "82e123d1-f638-47a9-bdc4-1e12755c61d1",
   "metadata": {},
   "outputs": [
    {
     "data": {
      "text/plain": [
       "array([[[1.],\n",
       "        [1.],\n",
       "        [1.],\n",
       "        [1.],\n",
       "        [1.]],\n",
       "\n",
       "       [[1.],\n",
       "        [1.],\n",
       "        [1.],\n",
       "        [1.],\n",
       "        [1.]]])"
      ]
     },
     "execution_count": 91,
     "metadata": {},
     "output_type": "execute_result"
    }
   ],
   "source": [
    "np.ones((2,5,1))"
   ]
  },
  {
   "cell_type": "code",
   "execution_count": 92,
   "id": "4c6417a7-8677-4270-8731-1c8e7c39d3a3",
   "metadata": {},
   "outputs": [
    {
     "data": {
      "text/plain": [
       "array([[0., 0., 0., 0., 0., 0.],\n",
       "       [0., 0., 0., 0., 0., 0.],\n",
       "       [0., 0., 0., 0., 0., 0.]])"
      ]
     },
     "execution_count": 92,
     "metadata": {},
     "output_type": "execute_result"
    }
   ],
   "source": [
    "np.zeros((3,6))"
   ]
  },
  {
   "cell_type": "code",
   "execution_count": 98,
   "id": "c6576f5b-b659-4a26-95ea-a5cd184be2c8",
   "metadata": {},
   "outputs": [
    {
     "data": {
      "text/plain": [
       "array([[[0., 0., 0.],\n",
       "        [0., 0., 0.],\n",
       "        [0., 0., 0.],\n",
       "        [0., 0., 0.],\n",
       "        [0., 0., 0.],\n",
       "        [0., 0., 0.],\n",
       "        [0., 0., 0.],\n",
       "        [0., 0., 0.],\n",
       "        [0., 0., 0.],\n",
       "        [0., 0., 0.]],\n",
       "\n",
       "       [[0., 0., 0.],\n",
       "        [0., 0., 0.],\n",
       "        [0., 0., 0.],\n",
       "        [0., 0., 0.],\n",
       "        [0., 0., 0.],\n",
       "        [0., 0., 0.],\n",
       "        [0., 0., 0.],\n",
       "        [0., 0., 0.],\n",
       "        [0., 0., 0.],\n",
       "        [0., 0., 0.]],\n",
       "\n",
       "       [[0., 0., 0.],\n",
       "        [0., 0., 0.],\n",
       "        [0., 0., 0.],\n",
       "        [0., 0., 0.],\n",
       "        [0., 0., 0.],\n",
       "        [0., 0., 0.],\n",
       "        [0., 0., 0.],\n",
       "        [0., 0., 0.],\n",
       "        [0., 0., 0.],\n",
       "        [0., 0., 0.]]])"
      ]
     },
     "execution_count": 98,
     "metadata": {},
     "output_type": "execute_result"
    }
   ],
   "source": [
    "np.zeros((3,10,3))"
   ]
  },
  {
   "cell_type": "code",
   "execution_count": 101,
   "id": "f747bee2-be03-4383-8ff2-2919d5807ccc",
   "metadata": {},
   "outputs": [
    {
     "data": {
      "text/plain": [
       "array([[22, 44, 66, 88],\n",
       "       [11, 33, 55, 77],\n",
       "       [ 1,  2,  3,  4]])"
      ]
     },
     "execution_count": 101,
     "metadata": {},
     "output_type": "execute_result"
    }
   ],
   "source": [
    "arr1"
   ]
  },
  {
   "cell_type": "code",
   "execution_count": 102,
   "id": "5739dce7-05ea-4a00-8b16-aa6fdd3c0dc4",
   "metadata": {},
   "outputs": [
    {
     "data": {
      "text/plain": [
       "array([[0, 0, 0, 0],\n",
       "       [0, 0, 0, 0],\n",
       "       [0, 0, 0, 0]])"
      ]
     },
     "execution_count": 102,
     "metadata": {},
     "output_type": "execute_result"
    }
   ],
   "source": [
    "## change all the values into zero\n",
    "np.zeros_like(arr1)"
   ]
  },
  {
   "cell_type": "code",
   "execution_count": 105,
   "id": "a12f75ee-59af-4e80-af1e-86cc5ea76ad7",
   "metadata": {},
   "outputs": [
    {
     "data": {
      "text/plain": [
       "31"
      ]
     },
     "execution_count": 105,
     "metadata": {},
     "output_type": "execute_result"
    }
   ],
   "source": [
    "np.random.randint(10,100)"
   ]
  },
  {
   "cell_type": "code",
   "execution_count": 113,
   "id": "35ca79c5-564f-42b0-9097-f16f278eb051",
   "metadata": {},
   "outputs": [
    {
     "data": {
      "text/plain": [
       "array([51, 34], dtype=int32)"
      ]
     },
     "execution_count": 113,
     "metadata": {},
     "output_type": "execute_result"
    }
   ],
   "source": [
    "np.random.randint(10,100,2)"
   ]
  },
  {
   "cell_type": "code",
   "execution_count": 121,
   "id": "6d040ddb-dcea-41fd-bfa3-e24c32525032",
   "metadata": {},
   "outputs": [
    {
     "data": {
      "text/plain": [
       "array([[ 1.44544003,  1.63583194,  0.93070341,  0.59460244,  0.8950083 ],\n",
       "       [-0.2263193 , -0.82170235, -0.47170212,  0.21105314,  0.1022416 ],\n",
       "       [-0.25620903, -0.42291244, -0.67797846, -0.22118904, -0.20936466]])"
      ]
     },
     "execution_count": 121,
     "metadata": {},
     "output_type": "execute_result"
    }
   ],
   "source": [
    "## Standard Normal Distribution\n",
    "np.random.randn(3,5)"
   ]
  },
  {
   "cell_type": "code",
   "execution_count": 120,
   "id": "102779ec-1529-4652-9e6c-d335333eb0a0",
   "metadata": {},
   "outputs": [
    {
     "data": {
      "text/plain": [
       "array([[0.86364339, 0.80452255, 0.10269398, 0.06602854, 0.13449706,\n",
       "        0.79736268],\n",
       "       [0.13612751, 0.51273572, 0.92139594, 0.22316616, 0.18783818,\n",
       "        0.73774464],\n",
       "       [0.76708174, 0.32224359, 0.64693355, 0.01682242, 0.90457704,\n",
       "        0.61145342],\n",
       "       [0.06266996, 0.27389479, 0.46372479, 0.30342773, 0.77016993,\n",
       "        0.11661682]])"
      ]
     },
     "execution_count": 120,
     "metadata": {},
     "output_type": "execute_result"
    }
   ],
   "source": [
    "## Gives Random Value between 0.0 to 1.0\n",
    "np.random.random_sample((4,6))"
   ]
  },
  {
   "cell_type": "code",
   "execution_count": 119,
   "id": "8d5202b6-96f7-4d46-93d3-de3ebe2d0278",
   "metadata": {},
   "outputs": [
    {
     "data": {
      "text/plain": [
       "array([[[0.59860712],\n",
       "        [0.35134956],\n",
       "        [0.16700286],\n",
       "        [0.10778328],\n",
       "        [0.98394023],\n",
       "        [0.48983135]],\n",
       "\n",
       "       [[0.4954015 ],\n",
       "        [0.47530559],\n",
       "        [0.81850564],\n",
       "        [0.49803948],\n",
       "        [0.94267163],\n",
       "        [0.08144388]],\n",
       "\n",
       "       [[0.92270318],\n",
       "        [0.64841916],\n",
       "        [0.38145566],\n",
       "        [0.47316556],\n",
       "        [0.26857659],\n",
       "        [0.71026267]],\n",
       "\n",
       "       [[0.21795419],\n",
       "        [0.77639837],\n",
       "        [0.28332822],\n",
       "        [0.90831966],\n",
       "        [0.09695664],\n",
       "        [0.20960799]]])"
      ]
     },
     "execution_count": 119,
     "metadata": {},
     "output_type": "execute_result"
    }
   ],
   "source": [
    "np.random.random_sample((4,6,1))"
   ]
  }
 ],
 "metadata": {
  "kernelspec": {
   "display_name": "Python [conda env:base] *",
   "language": "python",
   "name": "conda-base-py"
  },
  "language_info": {
   "codemirror_mode": {
    "name": "ipython",
    "version": 3
   },
   "file_extension": ".py",
   "mimetype": "text/x-python",
   "name": "python",
   "nbconvert_exporter": "python",
   "pygments_lexer": "ipython3",
   "version": "3.13.5"
  }
 },
 "nbformat": 4,
 "nbformat_minor": 5
}
