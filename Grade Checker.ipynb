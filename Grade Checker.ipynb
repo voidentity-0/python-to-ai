{
 "cells": [
  {
   "cell_type": "markdown",
   "id": "8eabe744-02f4-4fc4-b216-cfa67d8ad399",
   "metadata": {},
   "source": [
    "# Pass/Fail and Grade Checker\n",
    "\n",
    "This simple Python program takes a student's marks and name as input,  \n",
    "then checks if the student has passed or failed. If passed, it also assigns a grade.  \n",
    "\n",
    "I built this as part of my Python learning journey to practice conditional statements.\n"
   ]
  },
  {
   "cell_type": "code",
   "execution_count": 1,
   "id": "e3f13765-10c4-4bb2-bfda-7643d194aa3a",
   "metadata": {},
   "outputs": [
    {
     "name": "stdin",
     "output_type": "stream",
     "text": [
      "Enter Your Name:  Ahmad Ali\n",
      "Enter Your Marks:  84\n"
     ]
    },
    {
     "name": "stdout",
     "output_type": "stream",
     "text": [
      "B Grade\n",
      "Congratulations! Ahmad Ali You have passed the exam.\n"
     ]
    }
   ],
   "source": [
    "# Program to check pass or fail + Grade checker\n",
    "name = input(\"Enter Your Name: \")\n",
    "marks = float(input(\"Enter Your Marks: \"))\n",
    "if marks >= 33:\n",
    "    \n",
    "    if marks >= 33 and marks < 50:\n",
    "        print (\"E Grade\")\n",
    "    elif marks >= 50 and marks <= 65:\n",
    "        print (\"D Grade\")\n",
    "    elif marks > 65 and marks <= 80:\n",
    "         print (\"C Grade\")\n",
    "    elif marks > 80 and marks <=90:\n",
    "        print (\"B Grade\")\n",
    "    elif marks >90 and marks <= 95:\n",
    "        print (\"A Grade\")\n",
    "    elif marks > 95:\n",
    "        print (\"A+ Grade\")\n",
    "    print (f\"Congratulations! {name} You have passed the exam.\")\n",
    "elif marks < 33:\n",
    "    print (\"F Grade\")\n",
    "    print (f\"Sorry {name}, you have failed the exam.\")"
   ]
  },
  {
   "cell_type": "code",
   "execution_count": 2,
   "id": "883b02e4-fd3f-476a-bcfb-dbd542c88f5d",
   "metadata": {},
   "outputs": [
    {
     "name": "stdin",
     "output_type": "stream",
     "text": [
      "Enter Your Name:  Hassan\n",
      "Enter Your Marks:  32\n"
     ]
    },
    {
     "name": "stdout",
     "output_type": "stream",
     "text": [
      "F Grade\n",
      "Sorry Hassan, you have failed the exam.\n"
     ]
    }
   ],
   "source": [
    "# Program to check pass or fail + Grade checker\n",
    "name = input(\"Enter Your Name: \")\n",
    "marks = float(input(\"Enter Your Marks: \"))\n",
    "if marks >= 33:\n",
    "    \n",
    "    if marks >= 33 and marks < 50:\n",
    "        print (\"E Grade\")\n",
    "    elif marks >= 50 and marks <= 65:\n",
    "        print (\"D Grade\")\n",
    "    elif marks > 65 and marks <= 80:\n",
    "         print (\"C Grade\")\n",
    "    elif marks > 80 and marks <=90:\n",
    "        print (\"B Grade\")\n",
    "    elif marks >90 and marks <= 95:\n",
    "        print (\"A Grade\")\n",
    "    elif marks > 95:\n",
    "        print (\"A+ Grade\")\n",
    "    print (f\"Congratulations! {name} You have passed the exam.\")\n",
    "elif marks < 33:\n",
    "    print (\"F Grade\")\n",
    "    print (f\"Sorry {name}, you have failed the exam.\")"
   ]
  },
  {
   "cell_type": "markdown",
   "id": "94108461-2ac9-443d-a10d-a777f529a2f0",
   "metadata": {},
   "source": [
    "### Key Learnings\n",
    "\n",
    "- Practiced using `if`, `elif`, and `else` statements in Python.  \n",
    "- Learned how to use nested conditions for more detailed checks.  \n",
    "- Used f-strings for cleaner output formatting.  \n"
   ]
  }
 ],
 "metadata": {
  "kernelspec": {
   "display_name": "Python [conda env:base] *",
   "language": "python",
   "name": "conda-base-py"
  },
  "language_info": {
   "codemirror_mode": {
    "name": "ipython",
    "version": 3
   },
   "file_extension": ".py",
   "mimetype": "text/x-python",
   "name": "python",
   "nbconvert_exporter": "python",
   "pygments_lexer": "ipython3",
   "version": "3.13.5"
  }
 },
 "nbformat": 4,
 "nbformat_minor": 5
}
