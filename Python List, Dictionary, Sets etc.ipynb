{
 "cells": [
  {
   "cell_type": "markdown",
   "id": "16924f93-6811-459c-aec5-686b0e0165ca",
   "metadata": {},
   "source": [
    "# Python In built Data Structures"
   ]
  },
  {
   "cell_type": "markdown",
   "id": "c7956a8a-befe-4a26-ae7d-5e1699bdf104",
   "metadata": {},
   "source": [
    "### Lists\n",
    "\n",
    "A list is a data structure in Python that is a mutable, or changeable, ordered sequence of elements. Each element or value that is inside of a list is called an item. Just as strings are defined as characters between quotes, lists are defined by having values between square brackets [ ] "
   ]
  },
  {
   "cell_type": "code",
   "execution_count": 2,
   "id": "9957ba10-84d5-4c37-90cc-7acb068e182a",
   "metadata": {},
   "outputs": [
    {
     "name": "stdout",
     "output_type": "stream",
     "text": [
      "[]\n"
     ]
    },
    {
     "data": {
      "text/plain": [
       "list"
      ]
     },
     "execution_count": 2,
     "metadata": {},
     "output_type": "execute_result"
    }
   ],
   "source": [
    "lst = []\n",
    "print(lst)\n",
    "type(lst)"
   ]
  },
  {
   "cell_type": "code",
   "execution_count": 3,
   "id": "fadc623c-21f0-4581-98c1-f01c72a26c83",
   "metadata": {},
   "outputs": [
    {
     "data": {
      "text/plain": [
       "[1, 2, 3, 4, 'Ali', 6]"
      ]
     },
     "execution_count": 3,
     "metadata": {},
     "output_type": "execute_result"
    }
   ],
   "source": [
    "lst = [1,2,3,4,'Ali',6]\n",
    "lst[:]"
   ]
  },
  {
   "cell_type": "code",
   "execution_count": 44,
   "id": "c524a3b5-dc73-45bc-9579-0f2093db4dc4",
   "metadata": {},
   "outputs": [
    {
     "data": {
      "text/plain": [
       "[1, 2, 3, 4, 'Ali', 6]"
      ]
     },
     "execution_count": 44,
     "metadata": {},
     "output_type": "execute_result"
    }
   ],
   "source": [
    "lst = [1,2,3,4,'Ali',6]\n",
    "lst[:]       ## it is used to indexing from range to n-1"
   ]
  },
  {
   "cell_type": "code",
   "execution_count": 6,
   "id": "b965db5a-037f-410d-a9a3-06fe6e46a933",
   "metadata": {},
   "outputs": [
    {
     "data": {
      "text/plain": [
       "[3, 4, 'Ali']"
      ]
     },
     "execution_count": 6,
     "metadata": {},
     "output_type": "execute_result"
    }
   ],
   "source": [
    "lst = [1,2,3,4,'Ali',6]\n",
    "lst[2:5]"
   ]
  },
  {
   "cell_type": "code",
   "execution_count": 12,
   "id": "2eb2d27a-a9b9-4fe2-85c1-bbeadd1aa3dd",
   "metadata": {},
   "outputs": [
    {
     "name": "stdout",
     "output_type": "stream",
     "text": [
      "[1, 2, 3, 4, 'Ali', 6, 'Python']\n"
     ]
    }
   ],
   "source": [
    "lst[6] = 'Python'        ## Change the Item\n",
    "print (lst)"
   ]
  },
  {
   "cell_type": "markdown",
   "id": "7bac9b0a-69a1-468b-8862-fc1ed1fa9df2",
   "metadata": {},
   "source": [
    "## Append Function"
   ]
  },
  {
   "cell_type": "code",
   "execution_count": 59,
   "id": "130541d3-b0a7-4762-9ade-0022d77e7e93",
   "metadata": {},
   "outputs": [
    {
     "data": {
      "text/plain": [
       "[1, 2, 3, 4, 'Ali', 6, 'Python', ['Py', 'Ja']]"
      ]
     },
     "execution_count": 59,
     "metadata": {},
     "output_type": "execute_result"
    }
   ],
   "source": [
    "#.append is used to add elements in the list\n",
    "lst"
   ]
  },
  {
   "cell_type": "code",
   "execution_count": 8,
   "id": "f074db5a-1d04-491b-ba43-7c9e45db58fc",
   "metadata": {},
   "outputs": [],
   "source": [
    "lst .append ('Ahmad')"
   ]
  },
  {
   "cell_type": "code",
   "execution_count": 9,
   "id": "8b5ae7fa-5b21-4841-baf8-de564d2d2b19",
   "metadata": {},
   "outputs": [
    {
     "data": {
      "text/plain": [
       "[1, 2, 3, 4, 'Ali', 6, 'Ahmad']"
      ]
     },
     "execution_count": 9,
     "metadata": {},
     "output_type": "execute_result"
    }
   ],
   "source": [
    "lst"
   ]
  },
  {
   "cell_type": "code",
   "execution_count": 17,
   "id": "64f6e0f0-7ceb-4014-aa1a-37df31c0ad7e",
   "metadata": {},
   "outputs": [
    {
     "name": "stdout",
     "output_type": "stream",
     "text": [
      "[1, 2, 3, 4, 'Ali', 6, 'Python', ['Py', 'Ja'], ['Py', 'Ja']]\n"
     ]
    }
   ],
   "source": [
    "lst .append(['Py','Ja'])\n",
    "print (lst)"
   ]
  },
  {
   "cell_type": "markdown",
   "id": "1cf5ed4d-0ce9-49e8-8d95-4a5c997882e7",
   "metadata": {},
   "source": [
    "## Pop()"
   ]
  },
  {
   "cell_type": "code",
   "execution_count": 53,
   "id": "18794ef9-fb07-4a90-96e4-118537a0cc82",
   "metadata": {},
   "outputs": [
    {
     "data": {
      "text/plain": [
       "4"
      ]
     },
     "execution_count": 53,
     "metadata": {},
     "output_type": "execute_result"
    }
   ],
   "source": [
    "lst.pop(3)      ## Remove the last item"
   ]
  },
  {
   "cell_type": "code",
   "execution_count": 26,
   "id": "ba8f8ae4-2e70-47a4-8e88-ef352ca1c847",
   "metadata": {},
   "outputs": [
    {
     "data": {
      "text/plain": [
       "['Py', 'Ja']"
      ]
     },
     "execution_count": 26,
     "metadata": {},
     "output_type": "execute_result"
    }
   ],
   "source": [
    "lst.pop()"
   ]
  },
  {
   "cell_type": "code",
   "execution_count": 55,
   "id": "0c0d77aa-c4b7-4a34-9dca-8623f6a05c81",
   "metadata": {},
   "outputs": [],
   "source": [
    "lst = [1, 2, 3, 4, 'Ali', 6, 'Python', ['Py', 'Ja']]"
   ]
  },
  {
   "cell_type": "code",
   "execution_count": 56,
   "id": "01adf809-4150-4b53-9b5a-e045eba8a591",
   "metadata": {},
   "outputs": [
    {
     "data": {
      "text/plain": [
       "'Py'"
      ]
     },
     "execution_count": 56,
     "metadata": {},
     "output_type": "execute_result"
    }
   ],
   "source": [
    "lst[7][0]        ## locate the item"
   ]
  },
  {
   "cell_type": "code",
   "execution_count": 25,
   "id": "48c806a9-ff7a-442a-b6da-b4ac6e92f12c",
   "metadata": {},
   "outputs": [
    {
     "data": {
      "text/plain": [
       "[1, 2, 3, 4, 'Ali', 6, 'Python', ['Py', 'Ja']]"
      ]
     },
     "execution_count": 25,
     "metadata": {},
     "output_type": "execute_result"
    }
   ],
   "source": [
    "lst"
   ]
  },
  {
   "cell_type": "code",
   "execution_count": 27,
   "id": "496cd041-2595-46c3-afd7-9620073928d6",
   "metadata": {},
   "outputs": [
    {
     "data": {
      "text/plain": [
       "[1, 2, 3, 4, 'Ali', 6, 'Python']"
      ]
     },
     "execution_count": 27,
     "metadata": {},
     "output_type": "execute_result"
    }
   ],
   "source": [
    "lst"
   ]
  },
  {
   "cell_type": "markdown",
   "id": "a1aabe5a-6039-4688-9ad8-fd2944c93b34",
   "metadata": {},
   "source": [
    "## Extend Function"
   ]
  },
  {
   "cell_type": "code",
   "execution_count": 28,
   "id": "e0677ed8-94b4-4914-a1b8-208b10297f91",
   "metadata": {},
   "outputs": [
    {
     "name": "stdout",
     "output_type": "stream",
     "text": [
      "[1, 2, 3, 4, 'Ali', 6, 'Python', 'Pytorch', 'Pandas']\n"
     ]
    }
   ],
   "source": [
    "lst.extend(['Pytorch','Pandas'])\n",
    "print(lst)"
   ]
  },
  {
   "cell_type": "code",
   "execution_count": 57,
   "id": "65373f2c-ce45-4f33-9854-52a3a2f6e43e",
   "metadata": {},
   "outputs": [
    {
     "data": {
      "text/plain": [
       "1"
      ]
     },
     "execution_count": 57,
     "metadata": {},
     "output_type": "execute_result"
    }
   ],
   "source": [
    "lst .count(4)      ## Count the item"
   ]
  },
  {
   "cell_type": "code",
   "execution_count": 30,
   "id": "6ba67eca-9130-4ba7-b427-a558f02af690",
   "metadata": {},
   "outputs": [
    {
     "data": {
      "text/plain": [
       "0"
      ]
     },
     "execution_count": 30,
     "metadata": {},
     "output_type": "execute_result"
    }
   ],
   "source": [
    "lst .count(str)"
   ]
  },
  {
   "cell_type": "markdown",
   "id": "087efbd8-0b16-4ecc-bf9a-04fcd049a1fc",
   "metadata": {},
   "source": [
    "## Index Function"
   ]
  },
  {
   "cell_type": "code",
   "execution_count": 58,
   "id": "9b6a6e5e-49b7-4c11-9b47-f25b65742490",
   "metadata": {},
   "outputs": [
    {
     "data": {
      "text/plain": [
       "2"
      ]
     },
     "execution_count": 58,
     "metadata": {},
     "output_type": "execute_result"
    }
   ],
   "source": [
    "lst.index(3)      ## to Locate item"
   ]
  },
  {
   "cell_type": "code",
   "execution_count": 33,
   "id": "9f756c54-fee8-43ae-a4af-d4756440d9db",
   "metadata": {},
   "outputs": [
    {
     "data": {
      "text/plain": [
       "5"
      ]
     },
     "execution_count": 33,
     "metadata": {},
     "output_type": "execute_result"
    }
   ],
   "source": [
    "lst.index(6,3,8)"
   ]
  },
  {
   "cell_type": "code",
   "execution_count": 34,
   "id": "e41ab676-7b30-442e-a260-b7b39b492966",
   "metadata": {},
   "outputs": [
    {
     "data": {
      "text/plain": [
       "[1, 2, 3, 4, 'Ali', 6, 'Python', 'Pytorch', 'Pandas']"
      ]
     },
     "execution_count": 34,
     "metadata": {},
     "output_type": "execute_result"
    }
   ],
   "source": [
    "lst"
   ]
  },
  {
   "cell_type": "code",
   "execution_count": 38,
   "id": "a10e7606-286a-4e50-80d0-9a6e466c51b9",
   "metadata": {},
   "outputs": [
    {
     "data": {
      "text/plain": [
       "22"
      ]
     },
     "execution_count": 38,
     "metadata": {},
     "output_type": "execute_result"
    }
   ],
   "source": [
    "lst = [1,2,4,9,6]\n",
    "sum(lst)"
   ]
  },
  {
   "cell_type": "code",
   "execution_count": 40,
   "id": "da005de7-a777-4cd0-a92a-48e4562f1c80",
   "metadata": {},
   "outputs": [
    {
     "data": {
      "text/plain": [
       "9"
      ]
     },
     "execution_count": 40,
     "metadata": {},
     "output_type": "execute_result"
    }
   ],
   "source": [
    "max(lst)"
   ]
  },
  {
   "cell_type": "code",
   "execution_count": 41,
   "id": "7bce00b3-0116-4add-82b2-033b8f5209cd",
   "metadata": {},
   "outputs": [
    {
     "data": {
      "text/plain": [
       "1"
      ]
     },
     "execution_count": 41,
     "metadata": {},
     "output_type": "execute_result"
    }
   ],
   "source": [
    "min(lst)"
   ]
  },
  {
   "cell_type": "code",
   "execution_count": 42,
   "id": "52a4f5b2-a758-4994-885c-0d67ad745668",
   "metadata": {},
   "outputs": [
    {
     "data": {
      "text/plain": [
       "[1, 2, 4, 9, 6, 1, 2, 4, 9, 6]"
      ]
     },
     "execution_count": 42,
     "metadata": {},
     "output_type": "execute_result"
    }
   ],
   "source": [
    "lst *2"
   ]
  },
  {
   "cell_type": "code",
   "execution_count": 43,
   "id": "5d23fc27-fc8e-4890-a403-ceeb1b0846ce",
   "metadata": {},
   "outputs": [
    {
     "name": "stdout",
     "output_type": "stream",
     "text": [
      "0.5\n",
      "1.0\n",
      "2.0\n",
      "4.5\n",
      "3.0\n"
     ]
    }
   ],
   "source": [
    "for i in lst:\n",
    "    print (i/2)"
   ]
  },
  {
   "cell_type": "markdown",
   "id": "5beedd0e-f94e-48b1-ad16-aa7f69ce4457",
   "metadata": {},
   "source": [
    "## SETS\n",
    "\n",
    "A Set is an unordered collection data type that is iterable, mutable, and has no duplicate elements. Python's set class represents the mathematical notion of a set.This is based on a data structure known as a hash table"
   ]
  },
  {
   "cell_type": "code",
   "execution_count": 61,
   "id": "4f9cc353-a686-4f13-84c9-df827037b94a",
   "metadata": {},
   "outputs": [
    {
     "data": {
      "text/plain": [
       "set"
      ]
     },
     "execution_count": 61,
     "metadata": {},
     "output_type": "execute_result"
    }
   ],
   "source": [
    "type({1})"
   ]
  },
  {
   "cell_type": "code",
   "execution_count": 62,
   "id": "a1243dd9-363a-419c-a8fa-859626768f3d",
   "metadata": {},
   "outputs": [],
   "source": [
    "set_1 = {1,2,3,4,'Ali'}\n",
    "set_2 = {1,2,3,5,'Ali'}"
   ]
  },
  {
   "cell_type": "code",
   "execution_count": 63,
   "id": "be1384e9-4591-4414-9658-559cd500b3b7",
   "metadata": {},
   "outputs": [
    {
     "data": {
      "text/plain": [
       "{4}"
      ]
     },
     "execution_count": 63,
     "metadata": {},
     "output_type": "execute_result"
    }
   ],
   "source": [
    "set_1.difference(set_2)"
   ]
  },
  {
   "cell_type": "code",
   "execution_count": 64,
   "id": "4a794f02-d78e-4d16-88c9-2c85420935ac",
   "metadata": {},
   "outputs": [
    {
     "data": {
      "text/plain": [
       "{1, 2, 3, 'Ali'}"
      ]
     },
     "execution_count": 64,
     "metadata": {},
     "output_type": "execute_result"
    }
   ],
   "source": [
    "set_2.intersection(set_1)"
   ]
  },
  {
   "cell_type": "code",
   "execution_count": 65,
   "id": "a17d6946-9e9a-4377-b3fe-87f5a872bfb7",
   "metadata": {},
   "outputs": [
    {
     "data": {
      "text/plain": [
       "False"
      ]
     },
     "execution_count": 65,
     "metadata": {},
     "output_type": "execute_result"
    }
   ],
   "source": [
    "set_1.issuperset(set_2)"
   ]
  },
  {
   "cell_type": "code",
   "execution_count": 68,
   "id": "0b4a0208-ab2f-40f9-a633-330a0b0102ae",
   "metadata": {},
   "outputs": [
    {
     "data": {
      "text/plain": [
       "False"
      ]
     },
     "execution_count": 68,
     "metadata": {},
     "output_type": "execute_result"
    }
   ],
   "source": [
    "set_1.issubset(set_2)"
   ]
  },
  {
   "cell_type": "code",
   "execution_count": 69,
   "id": "cbb80358-d652-44a0-8039-5bb83207ba99",
   "metadata": {},
   "outputs": [
    {
     "name": "stdout",
     "output_type": "stream",
     "text": [
      "{1, 2, 3, 4, 'Ali', 'Py'}\n"
     ]
    }
   ],
   "source": [
    "## Inbuilt function in sets\n",
    "set_1 .add ('Py')\n",
    "print (set_1)"
   ]
  },
  {
   "cell_type": "markdown",
   "id": "428e856b-1c9c-4011-b6b4-c70c41e6b20f",
   "metadata": {},
   "source": [
    "## Dictionaries\n",
    "\n",
    "A dictionary is a collection which is unordered, changeable and indexed. In Python dictionaries are written with curly brackets, and they have keys and values."
   ]
  },
  {
   "cell_type": "code",
   "execution_count": 70,
   "id": "b60e520d-c7f2-452c-838a-167a1c5c302e",
   "metadata": {},
   "outputs": [
    {
     "data": {
      "text/plain": [
       "dict"
      ]
     },
     "execution_count": 70,
     "metadata": {},
     "output_type": "execute_result"
    }
   ],
   "source": [
    "type({})"
   ]
  },
  {
   "cell_type": "code",
   "execution_count": 74,
   "id": "412bbfa5-a7b1-4e21-972e-034df604619d",
   "metadata": {},
   "outputs": [
    {
     "name": "stdout",
     "output_type": "stream",
     "text": [
      "{'Car1': 'Audi', 'Car2': 'Suzuki', 'Car3': 'Tyota'}\n"
     ]
    }
   ],
   "source": [
    "dic_1 = {'Car1':'Audi','Car2' :'Suzuki','Car3' :'Tyota'}\n",
    "print (dic_1)"
   ]
  },
  {
   "cell_type": "code",
   "execution_count": 80,
   "id": "4d061013-490f-4041-8303-028f270a2c3b",
   "metadata": {},
   "outputs": [
    {
     "name": "stdout",
     "output_type": "stream",
     "text": [
      "Car1\n",
      "Car2\n",
      "Car3\n"
     ]
    }
   ],
   "source": [
    "# We can even loop throught the dictionaries keys\n",
    "for x in dic_1:\n",
    "    print(x)"
   ]
  },
  {
   "cell_type": "code",
   "execution_count": 81,
   "id": "c488e0a7-1e58-457d-aa36-2f3d9cd98d91",
   "metadata": {},
   "outputs": [
    {
     "name": "stdout",
     "output_type": "stream",
     "text": [
      "('Car1', 'Audi')\n",
      "('Car2', 'Suzuki')\n",
      "('Car3', 'Tyota')\n"
     ]
    }
   ],
   "source": [
    "# We can also check both keys and values\n",
    "for x in dic_1.items():\n",
    "    print(x)"
   ]
  },
  {
   "cell_type": "code",
   "execution_count": 82,
   "id": "c9efe08c-a4be-41e1-82bf-bdfb9eb7c81a",
   "metadata": {},
   "outputs": [
    {
     "name": "stdout",
     "output_type": "stream",
     "text": [
      "Car1\n",
      "Car2\n",
      "Car3\n"
     ]
    }
   ],
   "source": [
    "# We can also check keys\n",
    "for x in dic_1.keys():\n",
    "    print(x)"
   ]
  },
  {
   "cell_type": "code",
   "execution_count": 83,
   "id": "cdfde1e9-521c-4e5e-8f0b-d32492721401",
   "metadata": {},
   "outputs": [
    {
     "name": "stdout",
     "output_type": "stream",
     "text": [
      "Audi\n",
      "Suzuki\n",
      "Tyota\n"
     ]
    }
   ],
   "source": [
    "# We can also check values\n",
    "for x in dic_1.values():\n",
    "    print(x)"
   ]
  },
  {
   "cell_type": "code",
   "execution_count": 86,
   "id": "6fd0337e-f5b8-4997-abfc-01874c223f14",
   "metadata": {},
   "outputs": [
    {
     "name": "stdout",
     "output_type": "stream",
     "text": [
      "{'Car1': 'Audi', 'Car2': 'Suzuki', 'Car3': 'Tyota', 'Car4': 'Honda'}\n"
     ]
    }
   ],
   "source": [
    "## Adding items in Dictionaries\n",
    "dic_1['Car4'] = 'Honda'\n",
    "print (dic_1)"
   ]
  },
  {
   "cell_type": "code",
   "execution_count": 87,
   "id": "7efb95a6-a23e-4a47-8f2a-03395cea55b1",
   "metadata": {},
   "outputs": [],
   "source": [
    "dic_1['Car1'] = 'MG'"
   ]
  },
  {
   "cell_type": "code",
   "execution_count": 88,
   "id": "d8a17840-944e-4f5b-8a8d-adc1a6fdd8fb",
   "metadata": {},
   "outputs": [
    {
     "data": {
      "text/plain": [
       "{'Car1': 'MG', 'Car2': 'Suzuki', 'Car3': 'Tyota', 'Car4': 'Honda'}"
      ]
     },
     "execution_count": 88,
     "metadata": {},
     "output_type": "execute_result"
    }
   ],
   "source": [
    "dic_1"
   ]
  },
  {
   "cell_type": "markdown",
   "id": "46086c97-a017-4ee7-a1e8-d9e79d9a3c14",
   "metadata": {},
   "source": [
    "### Nested Dictionary"
   ]
  },
  {
   "cell_type": "code",
   "execution_count": 89,
   "id": "1f18e5b8-67a7-4c09-b789-c8abd24eb141",
   "metadata": {},
   "outputs": [],
   "source": [
    "Car1_Model = {'Corola':'2015'}\n",
    "Car2_Model = {'Elentra':'2024'}\n",
    "Car3_Model = {'Fortuner':'2020'}\n",
    "Car_Type = {'Car1':Car1_Model, 'Car2':Car2_Model, 'Car3':Car3_Model}"
   ]
  },
  {
   "cell_type": "code",
   "execution_count": 91,
   "id": "c2a5efaa-7bb1-4917-9a91-c2a76de63343",
   "metadata": {},
   "outputs": [
    {
     "name": "stdout",
     "output_type": "stream",
     "text": [
      "{'Car1': {'Corola': '2015'}, 'Car2': {'Elentra': '2024'}, 'Car3': {'Fortuner': '2020'}}\n"
     ]
    }
   ],
   "source": [
    "print(Car_Type)"
   ]
  },
  {
   "cell_type": "code",
   "execution_count": 100,
   "id": "381014a5-c6ca-4bfb-9c81-4bf10e30604e",
   "metadata": {},
   "outputs": [
    {
     "data": {
      "text/plain": [
       "{'Corola': '2015'}"
      ]
     },
     "execution_count": 100,
     "metadata": {},
     "output_type": "execute_result"
    }
   ],
   "source": [
    "## Accessing the items in the dictionary\n",
    "Car_Type['Car1']"
   ]
  },
  {
   "cell_type": "code",
   "execution_count": 101,
   "id": "77c8a5a3-15d6-4edd-9a72-8cffbc4f1a0f",
   "metadata": {},
   "outputs": [
    {
     "data": {
      "text/plain": [
       "'2020'"
      ]
     },
     "execution_count": 101,
     "metadata": {},
     "output_type": "execute_result"
    }
   ],
   "source": [
    "Car_Type['Car3']['Fortuner']"
   ]
  },
  {
   "cell_type": "markdown",
   "id": "c8b07ca2-afde-444f-bf54-a0ec77d93f10",
   "metadata": {},
   "source": [
    "## Tuples"
   ]
  },
  {
   "cell_type": "code",
   "execution_count": 105,
   "id": "62de5776-22fe-4ba1-bf99-f5a1b2240690",
   "metadata": {},
   "outputs": [],
   "source": [
    "tuple_1=(1,2,3,4)"
   ]
  },
  {
   "cell_type": "code",
   "execution_count": 106,
   "id": "c79302eb-6c7c-4f73-87a0-cb4411c1243e",
   "metadata": {},
   "outputs": [
    {
     "name": "stdout",
     "output_type": "stream",
     "text": [
      "(1, 2, 3, 4)\n"
     ]
    }
   ],
   "source": [
    "print(tuple_1)"
   ]
  },
  {
   "cell_type": "code",
   "execution_count": 107,
   "id": "f381147f-4491-49ae-a07d-f17b5926726e",
   "metadata": {},
   "outputs": [
    {
     "data": {
      "text/plain": [
       "tuple"
      ]
     },
     "execution_count": 107,
     "metadata": {},
     "output_type": "execute_result"
    }
   ],
   "source": [
    "type(tuple_1)"
   ]
  },
  {
   "cell_type": "code",
   "execution_count": 109,
   "id": "2bef9020-c40b-4fb4-b0cb-d504cfd0acfd",
   "metadata": {},
   "outputs": [
    {
     "data": {
      "text/plain": [
       "(1, 2, 3, 4)"
      ]
     },
     "execution_count": 109,
     "metadata": {},
     "output_type": "execute_result"
    }
   ],
   "source": [
    "tuple_1"
   ]
  },
  {
   "cell_type": "code",
   "execution_count": 114,
   "id": "21baec9f-28fb-4257-bff5-f143ac2c5385",
   "metadata": {},
   "outputs": [
    {
     "data": {
      "text/plain": [
       "1"
      ]
     },
     "execution_count": 114,
     "metadata": {},
     "output_type": "execute_result"
    }
   ],
   "source": [
    "## Inbuilt function\n",
    "tuple_1.count(3)"
   ]
  },
  {
   "cell_type": "code",
   "execution_count": 111,
   "id": "ac1ad6e6-0c7e-4af0-a841-480c7a79dc02",
   "metadata": {},
   "outputs": [
    {
     "data": {
      "text/plain": [
       "2"
      ]
     },
     "execution_count": 111,
     "metadata": {},
     "output_type": "execute_result"
    }
   ],
   "source": [
    "tuple_1.index(3)"
   ]
  },
  {
   "cell_type": "code",
   "execution_count": 113,
   "id": "c0610287-032f-431a-b951-67965de6a210",
   "metadata": {},
   "outputs": [
    {
     "data": {
      "text/plain": [
       "[1, 2, 3, 4]"
      ]
     },
     "execution_count": 113,
     "metadata": {},
     "output_type": "execute_result"
    }
   ],
   "source": [
    "## Convert tuple into list\n",
    "list(tuple_1)  "
   ]
  }
 ],
 "metadata": {
  "kernelspec": {
   "display_name": "Python [conda env:base] *",
   "language": "python",
   "name": "conda-base-py"
  },
  "language_info": {
   "codemirror_mode": {
    "name": "ipython",
    "version": 3
   },
   "file_extension": ".py",
   "mimetype": "text/x-python",
   "name": "python",
   "nbconvert_exporter": "python",
   "pygments_lexer": "ipython3",
   "version": "3.13.5"
  }
 },
 "nbformat": 4,
 "nbformat_minor": 5
}
