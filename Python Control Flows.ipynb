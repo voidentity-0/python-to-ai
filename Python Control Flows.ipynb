{
 "cells": [
  {
   "cell_type": "markdown",
   "id": "6072033d-cf42-47d3-a175-cd1b47122338",
   "metadata": {},
   "source": [
    "##  Python Control Flows"
   ]
  },
  {
   "cell_type": "markdown",
   "id": "e029ea8f-bc38-48ea-97e7-f58f5a4977e2",
   "metadata": {},
   "source": [
    "### if statement"
   ]
  },
  {
   "cell_type": "code",
   "execution_count": 2,
   "id": "6a0052de-83af-4b5d-89c6-03d67853a202",
   "metadata": {},
   "outputs": [
    {
     "name": "stdin",
     "output_type": "stream",
     "text": [
      "Enter the Number  33\n"
     ]
    },
    {
     "name": "stdout",
     "output_type": "stream",
     "text": [
      "33.0\n"
     ]
    }
   ],
   "source": [
    "\n",
    "val=input('Enter the Number ')\n",
    "value_float=float(val)\n",
    "print(value_float)"
   ]
  },
  {
   "cell_type": "code",
   "execution_count": 20,
   "id": "d5ec73c4-0150-43e3-b2c4-edbccfd44767",
   "metadata": {},
   "outputs": [
    {
     "name": "stdin",
     "output_type": "stream",
     "text": [
      "Enter any Number 444\n"
     ]
    },
    {
     "name": "stdout",
     "output_type": "stream",
     "text": [
      "Number is Greater than 100\n"
     ]
    }
   ],
   "source": [
    "val = input('Enter any Number')\n",
    "value_int = int(val)\n",
    "if(value_int>100):\n",
    "    print ('Number is Greater than 100')\n",
    "\n"
   ]
  },
  {
   "cell_type": "code",
   "execution_count": 21,
   "id": "f798ec40-b3bf-4f7a-86c6-f31ebe32e869",
   "metadata": {},
   "outputs": [
    {
     "data": {
      "text/plain": [
       "True"
      ]
     },
     "execution_count": 21,
     "metadata": {},
     "output_type": "execute_result"
    }
   ],
   "source": [
    "102%2==0"
   ]
  },
  {
   "cell_type": "code",
   "execution_count": 22,
   "id": "01df98fb-20df-46c5-a1ea-6e4fe00aff24",
   "metadata": {},
   "outputs": [
    {
     "data": {
      "text/plain": [
       "False"
      ]
     },
     "execution_count": 22,
     "metadata": {},
     "output_type": "execute_result"
    }
   ],
   "source": [
    "103%2==0 "
   ]
  },
  {
   "cell_type": "code",
   "execution_count": 23,
   "id": "6bf59685-be40-46d4-915b-8f83970620be",
   "metadata": {},
   "outputs": [
    {
     "data": {
      "text/plain": [
       "False"
      ]
     },
     "execution_count": 23,
     "metadata": {},
     "output_type": "execute_result"
    }
   ],
   "source": [
    "12%2!=0"
   ]
  },
  {
   "cell_type": "markdown",
   "id": "7961d766-08ee-4ecb-ad24-8bf51c2f53fa",
   "metadata": {},
   "source": [
    "### if-else Statement"
   ]
  },
  {
   "cell_type": "code",
   "execution_count": 26,
   "id": "0c6dc015-ff65-4819-ae07-0e472c3acd76",
   "metadata": {},
   "outputs": [
    {
     "name": "stdin",
     "output_type": "stream",
     "text": [
      "Enter any Number 102\n"
     ]
    },
    {
     "name": "stdout",
     "output_type": "stream",
     "text": [
      "Number is Greater than 100\n"
     ]
    }
   ],
   "source": [
    "val = input('Enter any Number')\n",
    "value_float = float(val)\n",
    "if(value_float>100):\n",
    "    print ('Number is Greater than 100')\n",
    "else:\n",
    "    print('Numberis not Greater than 100')\n",
    "\n"
   ]
  },
  {
   "cell_type": "markdown",
   "id": "6c9eb8c2-f450-4d4a-b0b8-5de174d4b1e4",
   "metadata": {},
   "source": [
    "### Age Form\n",
    "### Nested if else Condition"
   ]
  },
  {
   "cell_type": "code",
   "execution_count": 35,
   "id": "1bfbf66a-86d3-41a7-a228-34500331eea2",
   "metadata": {},
   "outputs": [
    {
     "name": "stdin",
     "output_type": "stream",
     "text": [
      "Enter Age 12\n"
     ]
    },
    {
     "name": "stdout",
     "output_type": "stream",
     "text": [
      "Minor Age\n"
     ]
    }
   ],
   "source": [
    "age = float(input(\"Enter Age\"))\n",
    "\n",
    "if (age < 18):\n",
    "    print (\"Minor Age\")\n",
    "elif (age >= 18 and age <45):\n",
    "    print (\"Mid Age\")\n",
    "elif (age > 45 and age <= 50):\n",
    "    print (\"Senior Mid Age\")\n",
    "else:\n",
    "    print (\"Over Age\")"
   ]
  },
  {
   "cell_type": "markdown",
   "id": "3ac67492-67b9-4e78-a2e7-e7167b5d0440",
   "metadata": {},
   "source": [
    "### Nested if else Condition"
   ]
  },
  {
   "cell_type": "code",
   "execution_count": 39,
   "id": "03bf3d7d-dc68-446e-817f-e206ff4ac9da",
   "metadata": {},
   "outputs": [
    {
     "name": "stdin",
     "output_type": "stream",
     "text": [
      "Enter Age 16\n"
     ]
    },
    {
     "name": "stdout",
     "output_type": "stream",
     "text": [
      "Minor Age\n",
      "You are in the College\n"
     ]
    }
   ],
   "source": [
    "age = float(input(\"Enter Age\"))\n",
    "\n",
    "if (age < 18):\n",
    "    print (\"Minor Age\")\n",
    "    if (age < 15):\n",
    "        print (\"You are in High School\")\n",
    "    elif (age < 18):\n",
    "        print (\"You are in the College\")\n",
    "elif (age >= 18 and age <45):\n",
    "    print (\"Mid Age\")\n",
    "elif (age > 45 and age <= 50):\n",
    "    print (\"Senior Mid Age\")\n",
    "else:\n",
    "    print (\"Over Age\")"
   ]
  },
  {
   "cell_type": "markdown",
   "id": "115fe0be-f2e8-4b69-a0b4-ef94b7fcf99b",
   "metadata": {},
   "source": [
    "## Loops"
   ]
  },
  {
   "cell_type": "markdown",
   "id": "c8da64c6-4abc-4e62-b442-7e9625f3b44d",
   "metadata": {},
   "source": [
    "### for loop"
   ]
  },
  {
   "cell_type": "code",
   "execution_count": 40,
   "id": "b07468b3-6a44-4272-b91c-d01730c01a06",
   "metadata": {},
   "outputs": [
    {
     "name": "stdout",
     "output_type": "stream",
     "text": [
      "1\n",
      "2\n",
      "3\n",
      "4\n",
      "5\n",
      "6\n",
      "7\n",
      "8\n",
      "9\n"
     ]
    }
   ],
   "source": [
    "lst = [1,2,3,4,5,6,7,8,9]\n",
    "for i in lst:\n",
    "    print (i)"
   ]
  },
  {
   "cell_type": "code",
   "execution_count": 41,
   "id": "b1baf10b-8130-4115-b402-25483cc64082",
   "metadata": {},
   "outputs": [
    {
     "name": "stdout",
     "output_type": "stream",
     "text": [
      "1\n",
      "4\n",
      "9\n",
      "16\n",
      "25\n",
      "36\n",
      "49\n",
      "64\n",
      "81\n"
     ]
    }
   ],
   "source": [
    "lst = [1,2,3,4,5,6,7,8,9]\n",
    "for i in lst:\n",
    "    print (i**2)"
   ]
  },
  {
   "cell_type": "code",
   "execution_count": 42,
   "id": "0c27a559-d587-4a7b-a7ff-9eafc8850ccb",
   "metadata": {},
   "outputs": [
    {
     "name": "stdout",
     "output_type": "stream",
     "text": [
      "0.5\n",
      "1.0\n",
      "1.5\n",
      "2.0\n",
      "2.5\n",
      "3.0\n",
      "3.5\n",
      "4.0\n",
      "4.5\n"
     ]
    }
   ],
   "source": [
    "lst = [1,2,3,4,5,6,7,8,9]\n",
    "for i in lst:\n",
    "    print (i/2)"
   ]
  },
  {
   "cell_type": "code",
   "execution_count": 43,
   "id": "ed337657-4da1-4fd3-9ab1-4999b7a057d8",
   "metadata": {},
   "outputs": [],
   "source": [
    "## Find the Sum of all the Elements in the list"
   ]
  },
  {
   "cell_type": "code",
   "execution_count": 45,
   "id": "a3f15875-93e2-4cc0-8b1b-603052372a86",
   "metadata": {},
   "outputs": [
    {
     "name": "stdout",
     "output_type": "stream",
     "text": [
      "45\n"
     ]
    }
   ],
   "source": [
    "lst = [1,2,3,4,5,6,7,8,9]\n",
    "sum1 = 0\n",
    "for i in lst:\n",
    "    sum1 = sum1 + i\n",
    "print (sum1)"
   ]
  },
  {
   "cell_type": "markdown",
   "id": "9fd4973c-0d6d-4ea9-bdf1-af4a6867ed32",
   "metadata": {},
   "source": [
    "lst = [1,2,3,4,5,6,7,8,9]\n",
    "Add = 0\n",
    "for i in lst:\n",
    "    Add = Add + i\n",
    "print (Add)\n"
   ]
  },
  {
   "cell_type": "markdown",
   "id": "0840b92e-03a1-4766-b3de-8b4cbdf93e80",
   "metadata": {},
   "source": [
    "### Find the Sum of Even and Odd Numbers\n",
    "\n",
    "With String Format Methood"
   ]
  },
  {
   "cell_type": "code",
   "execution_count": 57,
   "id": "0cd5cb1f-45da-43cc-9136-696c1f9bb431",
   "metadata": {},
   "outputs": [
    {
     "name": "stdout",
     "output_type": "stream",
     "text": [
      "Sum of all Even Number is 20\n",
      "Sum of all Odd Number is 25\n"
     ]
    }
   ],
   "source": [
    "lst = [1,2,3,4,5,6,7,8,9]\n",
    "Even_Sum = 0\n",
    "Odd_Sum = 0\n",
    "\n",
    "for i in lst:\n",
    "    if (i %2 == 0):\n",
    "        Even_Sum = Even_Sum + i\n",
    "    else:\n",
    "        Odd_Sum = Odd_Sum + i\n",
    "print (\"Sum of all Even Number is {}\" .format(Even_Sum))\n",
    "print (\"Sum of all Odd Number is {}\" .format(Odd_Sum))"
   ]
  },
  {
   "cell_type": "markdown",
   "id": "bf91cc75-b355-4676-b5ce-eba9c6af3d9f",
   "metadata": {},
   "source": [
    "Without String Format Methood"
   ]
  },
  {
   "cell_type": "code",
   "execution_count": 58,
   "id": "eb33f0ab-1f11-43d0-b5e5-e6ebae9ef87e",
   "metadata": {},
   "outputs": [
    {
     "name": "stdout",
     "output_type": "stream",
     "text": [
      "Sum of all Even Number is 20\n",
      "Sum of all Odd Number is 25\n"
     ]
    }
   ],
   "source": [
    "lst = [1,2,3,4,5,6,7,8,9]\n",
    "Even_Sum = 0\n",
    "Odd_Sum = 0\n",
    "\n",
    "for i in lst:\n",
    "    if (i %2 == 0):\n",
    "        Even_Sum = Even_Sum + i\n",
    "    else:\n",
    "        Odd_Sum = Odd_Sum + i\n",
    "print (\"Sum of all Even Number is\",Even_Sum)\n",
    "print (\"Sum of all Odd Number is\",Odd_Sum)"
   ]
  },
  {
   "cell_type": "markdown",
   "id": "e93e9b12-2b25-484e-8062-fab04a19c30c",
   "metadata": {},
   "source": [
    "## While Loop / Condition"
   ]
  },
  {
   "cell_type": "code",
   "execution_count": 11,
   "id": "dc0e7a6c-c4b3-4536-9847-a1a5c9ea012f",
   "metadata": {},
   "outputs": [
    {
     "name": "stdout",
     "output_type": "stream",
     "text": [
      "0\n",
      "1\n",
      "2\n",
      "3\n",
      "4\n",
      "5\n",
      "6\n",
      "7\n",
      "8\n",
      "9\n",
      "10\n"
     ]
    }
   ],
   "source": [
    "i=0\n",
    "while(i<=10):\n",
    "    print(i)\n",
    "    i=i+1"
   ]
  },
  {
   "cell_type": "markdown",
   "id": "ec078898-4aa5-4495-9eea-53a3af2b1c09",
   "metadata": {},
   "source": [
    "### Finding Sum of Even and Odd Number using While Loop\n",
    "\n",
    "With String Format Methood"
   ]
  },
  {
   "cell_type": "code",
   "execution_count": 1,
   "id": "0e4aa9c4-10ec-4109-a86a-760c7fcc75b5",
   "metadata": {},
   "outputs": [
    {
     "name": "stdout",
     "output_type": "stream",
     "text": [
      "Sum of all Even number is 30\n",
      "Sum of all Odd number is 25\n"
     ]
    }
   ],
   "source": [
    "i=0\n",
    "Even_Sum = 0\n",
    "Odd_Sum = 0\n",
    "while(i<=10):\n",
    "    if (i %2 == 0):\n",
    "        Even_Sum=Even_Sum + i\n",
    "    else:\n",
    "        Odd_Sum=Odd_Sum + i\n",
    "    i=i+1\n",
    "        \n",
    "print (\"Sum of all Even number is {}\".format(Even_Sum))\n",
    "print (\"Sum of all Odd number is {}\".format(Odd_Sum))"
   ]
  },
  {
   "cell_type": "markdown",
   "id": "881739a5-2106-4ed1-aeb9-d20bb9ad7764",
   "metadata": {},
   "source": [
    "## Break"
   ]
  },
  {
   "cell_type": "code",
   "execution_count": 2,
   "id": "4d0a9a01-5653-4fdc-83d0-9834c5528011",
   "metadata": {},
   "outputs": [
    {
     "name": "stdout",
     "output_type": "stream",
     "text": [
      "1\n",
      "2\n",
      "3\n",
      "4\n",
      "5\n",
      "6\n",
      "7\n",
      "8\n",
      "9\n",
      "10\n",
      "11\n"
     ]
    }
   ],
   "source": [
    "x = 1\n",
    "while (x < 20):\n",
    "    print(x)\n",
    "    if (x == 11):\n",
    "        break\n",
    "    x = x + 1"
   ]
  },
  {
   "cell_type": "code",
   "execution_count": 4,
   "id": "7e51b971-982b-420e-8919-6e3bcb2e4b5f",
   "metadata": {},
   "outputs": [
    {
     "name": "stdout",
     "output_type": "stream",
     "text": [
      "1\n",
      "2\n",
      "3\n",
      "4\n",
      "5\n",
      "6\n",
      "7\n",
      "8\n",
      "9\n",
      "10\n"
     ]
    }
   ],
   "source": [
    "x = 1\n",
    "while (x < 20):\n",
    "    if (x == 11):\n",
    "        break\n",
    "    print(x)\n",
    "    x = x + 1"
   ]
  },
  {
   "cell_type": "markdown",
   "id": "c7d0505e-3b89-4a64-b8dd-650bdb3bf283",
   "metadata": {},
   "source": [
    "## Continue"
   ]
  },
  {
   "cell_type": "code",
   "execution_count": 1,
   "id": "89490fbd-8791-4a05-965e-ce5510d3c0ad",
   "metadata": {},
   "outputs": [
    {
     "name": "stdout",
     "output_type": "stream",
     "text": [
      "2\n",
      "3\n",
      "4\n",
      "5\n",
      "6\n",
      "7\n",
      "8\n",
      "9\n",
      "10\n",
      "11\n",
      "13\n"
     ]
    }
   ],
   "source": [
    "x = 1\n",
    "while (x < 13):\n",
    "    x = x + 1\n",
    "    if (x == 12):\n",
    "        continue\n",
    "    print(x)\n",
    "    "
   ]
  },
  {
   "cell_type": "markdown",
   "id": "d78dbdda-83ab-43bc-be52-17d4a7f1c814",
   "metadata": {},
   "source": [
    "## Break and Continue in While Loop"
   ]
  },
  {
   "cell_type": "code",
   "execution_count": 2,
   "id": "b72a8850-48ec-4b76-b01d-718cfc76eb77",
   "metadata": {},
   "outputs": [
    {
     "name": "stdout",
     "output_type": "stream",
     "text": [
      "3\n",
      "4\n",
      "5\n",
      "6\n",
      "7\n",
      "8\n",
      "9\n",
      "11\n",
      "12\n",
      "13\n",
      "14\n",
      "15\n",
      "16\n",
      "17\n",
      "18\n",
      "19\n",
      "20\n",
      "21\n",
      "22\n",
      "23\n",
      "24\n"
     ]
    }
   ],
   "source": [
    "x = 2\n",
    "while (x <= 30):\n",
    "    x = x + 1\n",
    "    if (x == 10):\n",
    "        continue\n",
    "    elif (x == 25):\n",
    "        break\n",
    "    print (x)"
   ]
  }
 ],
 "metadata": {
  "kernelspec": {
   "display_name": "Python [conda env:base] *",
   "language": "python",
   "name": "conda-base-py"
  },
  "language_info": {
   "codemirror_mode": {
    "name": "ipython",
    "version": 3
   },
   "file_extension": ".py",
   "mimetype": "text/x-python",
   "name": "python",
   "nbconvert_exporter": "python",
   "pygments_lexer": "ipython3",
   "version": "3.13.5"
  }
 },
 "nbformat": 4,
 "nbformat_minor": 5
}
