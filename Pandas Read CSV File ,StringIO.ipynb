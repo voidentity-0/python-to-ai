{
 "cells": [
  {
   "cell_type": "markdown",
   "id": "6050bb88-3f81-4c70-a40f-3a3dd3b958ad",
   "metadata": {},
   "source": [
    "### Python Pandas Tutorials- Part 2\n",
    "\n",
    "In Part 2 we are going to learn about\n",
    "1. StringIO\n",
    "2. Pandas read_csv"
   ]
  },
  {
   "cell_type": "code",
   "execution_count": 1,
   "id": "dc519dfe-46c1-4dc1-a06e-c09e64c7dea2",
   "metadata": {},
   "outputs": [],
   "source": [
    "### Reading Different Data sources with the help of pandas\n",
    "from io import StringIO"
   ]
  },
  {
   "cell_type": "code",
   "execution_count": 2,
   "id": "c3e9649c-62ae-4222-a492-ec10f81c4d3a",
   "metadata": {},
   "outputs": [],
   "source": [
    "import pandas as pd"
   ]
  },
  {
   "cell_type": "code",
   "execution_count": 6,
   "id": "171cee33-ef4f-45d5-b2fa-e5dac9aa0af7",
   "metadata": {},
   "outputs": [],
   "source": [
    "data = ('Col1,Col2,Col3\\n'\n",
    "        'X=2,Y=4,Z=6\\n'\n",
    "        'X+Y=?,X-Z=?,Y/Z\\n'\n",
    "       'X-Y=?,Y+Z=?,X/Z')"
   ]
  },
  {
   "cell_type": "code",
   "execution_count": 7,
   "id": "cb797d6f-02ce-4404-9f04-a5ce487afc4a",
   "metadata": {},
   "outputs": [
    {
     "data": {
      "text/plain": [
       "<_io.StringIO at 0x204dbd301c0>"
      ]
     },
     "execution_count": 7,
     "metadata": {},
     "output_type": "execute_result"
    }
   ],
   "source": [
    "##in memeory file format object\n",
    "StringIO(data)"
   ]
  },
  {
   "cell_type": "code",
   "execution_count": 9,
   "id": "57603e3f-a4a7-4a7f-b584-eb9d47fa0b17",
   "metadata": {},
   "outputs": [],
   "source": [
    "Read = pd.read_csv(StringIO(data))"
   ]
  },
  {
   "cell_type": "code",
   "execution_count": 10,
   "id": "dbd1248d-f1cc-43f4-b778-ab9279d574e3",
   "metadata": {},
   "outputs": [
    {
     "data": {
      "text/html": [
       "<div>\n",
       "<style scoped>\n",
       "    .dataframe tbody tr th:only-of-type {\n",
       "        vertical-align: middle;\n",
       "    }\n",
       "\n",
       "    .dataframe tbody tr th {\n",
       "        vertical-align: top;\n",
       "    }\n",
       "\n",
       "    .dataframe thead th {\n",
       "        text-align: right;\n",
       "    }\n",
       "</style>\n",
       "<table border=\"1\" class=\"dataframe\">\n",
       "  <thead>\n",
       "    <tr style=\"text-align: right;\">\n",
       "      <th></th>\n",
       "      <th>Col1</th>\n",
       "      <th>Col2</th>\n",
       "      <th>Col3</th>\n",
       "    </tr>\n",
       "  </thead>\n",
       "  <tbody>\n",
       "    <tr>\n",
       "      <th>0</th>\n",
       "      <td>X=2</td>\n",
       "      <td>Y=4</td>\n",
       "      <td>Z=6</td>\n",
       "    </tr>\n",
       "    <tr>\n",
       "      <th>1</th>\n",
       "      <td>X+Y=?</td>\n",
       "      <td>X-Z=?</td>\n",
       "      <td>Y/Z</td>\n",
       "    </tr>\n",
       "    <tr>\n",
       "      <th>2</th>\n",
       "      <td>X-Y=?</td>\n",
       "      <td>Y+Z=?</td>\n",
       "      <td>X/Z</td>\n",
       "    </tr>\n",
       "  </tbody>\n",
       "</table>\n",
       "</div>"
      ],
      "text/plain": [
       "    Col1   Col2 Col3\n",
       "0    X=2    Y=4  Z=6\n",
       "1  X+Y=?  X-Z=?  Y/Z\n",
       "2  X-Y=?  Y+Z=?  X/Z"
      ]
     },
     "execution_count": 10,
     "metadata": {},
     "output_type": "execute_result"
    }
   ],
   "source": [
    "Read"
   ]
  },
  {
   "cell_type": "code",
   "execution_count": 11,
   "id": "1fbebcb2-fa42-46ab-95cd-5d955b67afe1",
   "metadata": {},
   "outputs": [
    {
     "data": {
      "text/plain": [
       "pandas.core.frame.DataFrame"
      ]
     },
     "execution_count": 11,
     "metadata": {},
     "output_type": "execute_result"
    }
   ],
   "source": [
    "type (Read)"
   ]
  },
  {
   "cell_type": "code",
   "execution_count": 14,
   "id": "d533436f-d974-4a72-b28c-059e22a2d744",
   "metadata": {},
   "outputs": [],
   "source": [
    "data = pd.read_csv(StringIO(data), usecols=['Col2','Col1'])"
   ]
  },
  {
   "cell_type": "code",
   "execution_count": 15,
   "id": "02860efc-897f-4460-ac80-852d0e882277",
   "metadata": {},
   "outputs": [
    {
     "data": {
      "text/html": [
       "<div>\n",
       "<style scoped>\n",
       "    .dataframe tbody tr th:only-of-type {\n",
       "        vertical-align: middle;\n",
       "    }\n",
       "\n",
       "    .dataframe tbody tr th {\n",
       "        vertical-align: top;\n",
       "    }\n",
       "\n",
       "    .dataframe thead th {\n",
       "        text-align: right;\n",
       "    }\n",
       "</style>\n",
       "<table border=\"1\" class=\"dataframe\">\n",
       "  <thead>\n",
       "    <tr style=\"text-align: right;\">\n",
       "      <th></th>\n",
       "      <th>Col1</th>\n",
       "      <th>Col2</th>\n",
       "    </tr>\n",
       "  </thead>\n",
       "  <tbody>\n",
       "    <tr>\n",
       "      <th>0</th>\n",
       "      <td>X=2</td>\n",
       "      <td>Y=4</td>\n",
       "    </tr>\n",
       "    <tr>\n",
       "      <th>1</th>\n",
       "      <td>X+Y=?</td>\n",
       "      <td>X-Z=?</td>\n",
       "    </tr>\n",
       "    <tr>\n",
       "      <th>2</th>\n",
       "      <td>X-Y=?</td>\n",
       "      <td>Y+Z=?</td>\n",
       "    </tr>\n",
       "  </tbody>\n",
       "</table>\n",
       "</div>"
      ],
      "text/plain": [
       "    Col1   Col2\n",
       "0    X=2    Y=4\n",
       "1  X+Y=?  X-Z=?\n",
       "2  X-Y=?  Y+Z=?"
      ]
     },
     "execution_count": 15,
     "metadata": {},
     "output_type": "execute_result"
    }
   ],
   "source": [
    "data"
   ]
  },
  {
   "cell_type": "code",
   "execution_count": 20,
   "id": "bbf257de-4d25-45bc-97fd-8a099957e0e2",
   "metadata": {},
   "outputs": [],
   "source": [
    "data.to_csv('test.csv',index=[False])"
   ]
  },
  {
   "cell_type": "code",
   "execution_count": 24,
   "id": "0af6f6e3-83e2-4ae2-bfea-ba048f0beaca",
   "metadata": {},
   "outputs": [
    {
     "data": {
      "text/html": [
       "<div>\n",
       "<style scoped>\n",
       "    .dataframe tbody tr th:only-of-type {\n",
       "        vertical-align: middle;\n",
       "    }\n",
       "\n",
       "    .dataframe tbody tr th {\n",
       "        vertical-align: top;\n",
       "    }\n",
       "\n",
       "    .dataframe thead th {\n",
       "        text-align: right;\n",
       "    }\n",
       "</style>\n",
       "<table border=\"1\" class=\"dataframe\">\n",
       "  <thead>\n",
       "    <tr style=\"text-align: right;\">\n",
       "      <th></th>\n",
       "      <th>Col1</th>\n",
       "      <th>Col2</th>\n",
       "    </tr>\n",
       "  </thead>\n",
       "  <tbody>\n",
       "    <tr>\n",
       "      <th>0</th>\n",
       "      <td>X=2</td>\n",
       "      <td>Y=4</td>\n",
       "    </tr>\n",
       "    <tr>\n",
       "      <th>1</th>\n",
       "      <td>X+Y=?</td>\n",
       "      <td>X-Z=?</td>\n",
       "    </tr>\n",
       "    <tr>\n",
       "      <th>2</th>\n",
       "      <td>X-Y=?</td>\n",
       "      <td>Y+Z=?</td>\n",
       "    </tr>\n",
       "  </tbody>\n",
       "</table>\n",
       "</div>"
      ],
      "text/plain": [
       "    Col1   Col2\n",
       "0    X=2    Y=4\n",
       "1  X+Y=?  X-Z=?\n",
       "2  X-Y=?  Y+Z=?"
      ]
     },
     "execution_count": 24,
     "metadata": {},
     "output_type": "execute_result"
    }
   ],
   "source": [
    "data"
   ]
  },
  {
   "cell_type": "code",
   "execution_count": 46,
   "id": "ab9ff02a-179e-449e-9002-7da6e7b0a62c",
   "metadata": {},
   "outputs": [],
   "source": [
    "##datatypes in csv\n",
    "data_2 = ('a,b,c,d\\n'\n",
    "          '1,2,3,4\\n'\n",
    "          '11,55,66,99\\n'\n",
    "         '22,33,44')"
   ]
  },
  {
   "cell_type": "code",
   "execution_count": 31,
   "id": "9e92ac58-cde3-43bf-a0a0-3647c088e4aa",
   "metadata": {},
   "outputs": [],
   "source": [
    "CSV = pd.read_csv(StringIO(data_2))"
   ]
  },
  {
   "cell_type": "code",
   "execution_count": 34,
   "id": "18c54b70-7990-4d01-82fd-54b157e6f112",
   "metadata": {},
   "outputs": [
    {
     "data": {
      "text/html": [
       "<div>\n",
       "<style scoped>\n",
       "    .dataframe tbody tr th:only-of-type {\n",
       "        vertical-align: middle;\n",
       "    }\n",
       "\n",
       "    .dataframe tbody tr th {\n",
       "        vertical-align: top;\n",
       "    }\n",
       "\n",
       "    .dataframe thead th {\n",
       "        text-align: right;\n",
       "    }\n",
       "</style>\n",
       "<table border=\"1\" class=\"dataframe\">\n",
       "  <thead>\n",
       "    <tr style=\"text-align: right;\">\n",
       "      <th></th>\n",
       "      <th>a</th>\n",
       "      <th>b</th>\n",
       "      <th>c</th>\n",
       "      <th>d</th>\n",
       "    </tr>\n",
       "  </thead>\n",
       "  <tbody>\n",
       "    <tr>\n",
       "      <th>0</th>\n",
       "      <td>1</td>\n",
       "      <td>2</td>\n",
       "      <td>3</td>\n",
       "      <td>4.0</td>\n",
       "    </tr>\n",
       "    <tr>\n",
       "      <th>1</th>\n",
       "      <td>11</td>\n",
       "      <td>55</td>\n",
       "      <td>66</td>\n",
       "      <td>99.0</td>\n",
       "    </tr>\n",
       "    <tr>\n",
       "      <th>2</th>\n",
       "      <td>22</td>\n",
       "      <td>33</td>\n",
       "      <td>44</td>\n",
       "      <td>NaN</td>\n",
       "    </tr>\n",
       "  </tbody>\n",
       "</table>\n",
       "</div>"
      ],
      "text/plain": [
       "    a   b   c     d\n",
       "0   1   2   3   4.0\n",
       "1  11  55  66  99.0\n",
       "2  22  33  44   NaN"
      ]
     },
     "execution_count": 34,
     "metadata": {},
     "output_type": "execute_result"
    }
   ],
   "source": [
    "CSV.head()"
   ]
  },
  {
   "cell_type": "code",
   "execution_count": 35,
   "id": "e4d185eb-c3ca-4f54-8867-6a6abdfd2a33",
   "metadata": {},
   "outputs": [
    {
     "data": {
      "text/plain": [
       "a    0\n",
       "b    0\n",
       "c    0\n",
       "d    1\n",
       "dtype: int64"
      ]
     },
     "execution_count": 35,
     "metadata": {},
     "output_type": "execute_result"
    }
   ],
   "source": [
    "CSV.isnull().sum()"
   ]
  },
  {
   "cell_type": "code",
   "execution_count": 36,
   "id": "7b43437f-1743-484c-85d5-be3c49b6c0f4",
   "metadata": {},
   "outputs": [
    {
     "name": "stdout",
     "output_type": "stream",
     "text": [
      "<class 'pandas.core.frame.DataFrame'>\n",
      "RangeIndex: 3 entries, 0 to 2\n",
      "Data columns (total 4 columns):\n",
      " #   Column  Non-Null Count  Dtype  \n",
      "---  ------  --------------  -----  \n",
      " 0   a       3 non-null      int64  \n",
      " 1   b       3 non-null      int64  \n",
      " 2   c       3 non-null      int64  \n",
      " 3   d       2 non-null      float64\n",
      "dtypes: float64(1), int64(3)\n",
      "memory usage: 228.0 bytes\n"
     ]
    }
   ],
   "source": [
    "CSV.info()"
   ]
  },
  {
   "cell_type": "code",
   "execution_count": 40,
   "id": "11289084-a7d1-4107-b294-f1765b2696d2",
   "metadata": {},
   "outputs": [],
   "source": [
    "CSV = pd.read_csv(StringIO(data_2),dtype='object')"
   ]
  },
  {
   "cell_type": "code",
   "execution_count": 41,
   "id": "7e06fa64-fedb-4683-acee-da5c65b5cba1",
   "metadata": {},
   "outputs": [
    {
     "name": "stdout",
     "output_type": "stream",
     "text": [
      "<class 'pandas.core.frame.DataFrame'>\n",
      "RangeIndex: 3 entries, 0 to 2\n",
      "Data columns (total 4 columns):\n",
      " #   Column  Non-Null Count  Dtype \n",
      "---  ------  --------------  ----- \n",
      " 0   a       3 non-null      object\n",
      " 1   b       3 non-null      object\n",
      " 2   c       3 non-null      object\n",
      " 3   d       2 non-null      object\n",
      "dtypes: object(4)\n",
      "memory usage: 228.0+ bytes\n"
     ]
    }
   ],
   "source": [
    "CSV.info()"
   ]
  },
  {
   "cell_type": "code",
   "execution_count": 45,
   "id": "ad35add7-66eb-4c59-b26a-d987690e0002",
   "metadata": {},
   "outputs": [
    {
     "data": {
      "text/html": [
       "<div>\n",
       "<style scoped>\n",
       "    .dataframe tbody tr th:only-of-type {\n",
       "        vertical-align: middle;\n",
       "    }\n",
       "\n",
       "    .dataframe tbody tr th {\n",
       "        vertical-align: top;\n",
       "    }\n",
       "\n",
       "    .dataframe thead th {\n",
       "        text-align: right;\n",
       "    }\n",
       "</style>\n",
       "<table border=\"1\" class=\"dataframe\">\n",
       "  <thead>\n",
       "    <tr style=\"text-align: right;\">\n",
       "      <th></th>\n",
       "      <th>a</th>\n",
       "      <th>b</th>\n",
       "      <th>c</th>\n",
       "      <th>d</th>\n",
       "    </tr>\n",
       "  </thead>\n",
       "  <tbody>\n",
       "    <tr>\n",
       "      <th>0</th>\n",
       "      <td>False</td>\n",
       "      <td>False</td>\n",
       "      <td>False</td>\n",
       "      <td>False</td>\n",
       "    </tr>\n",
       "    <tr>\n",
       "      <th>1</th>\n",
       "      <td>False</td>\n",
       "      <td>False</td>\n",
       "      <td>False</td>\n",
       "      <td>False</td>\n",
       "    </tr>\n",
       "    <tr>\n",
       "      <th>2</th>\n",
       "      <td>False</td>\n",
       "      <td>False</td>\n",
       "      <td>False</td>\n",
       "      <td>True</td>\n",
       "    </tr>\n",
       "  </tbody>\n",
       "</table>\n",
       "</div>"
      ],
      "text/plain": [
       "       a      b      c      d\n",
       "0  False  False  False  False\n",
       "1  False  False  False  False\n",
       "2  False  False  False   True"
      ]
     },
     "execution_count": 45,
     "metadata": {},
     "output_type": "execute_result"
    }
   ],
   "source": [
    "CSV.isnull()!=0"
   ]
  },
  {
   "cell_type": "code",
   "execution_count": 48,
   "id": "86341982-d483-4a98-a194-5e3e6a0b9dc3",
   "metadata": {},
   "outputs": [],
   "source": [
    "CSV = pd.read_csv(StringIO(data_2),dtype={'a':int,'b':float,'c':'object'})"
   ]
  },
  {
   "cell_type": "code",
   "execution_count": 49,
   "id": "a415e659-bb8a-48a9-a8e4-5bca7a736a07",
   "metadata": {},
   "outputs": [
    {
     "name": "stdout",
     "output_type": "stream",
     "text": [
      "<class 'pandas.core.frame.DataFrame'>\n",
      "RangeIndex: 3 entries, 0 to 2\n",
      "Data columns (total 4 columns):\n",
      " #   Column  Non-Null Count  Dtype  \n",
      "---  ------  --------------  -----  \n",
      " 0   a       3 non-null      int64  \n",
      " 1   b       3 non-null      float64\n",
      " 2   c       3 non-null      object \n",
      " 3   d       2 non-null      float64\n",
      "dtypes: float64(2), int64(1), object(1)\n",
      "memory usage: 228.0+ bytes\n"
     ]
    }
   ],
   "source": [
    "CSV.info()"
   ]
  },
  {
   "cell_type": "code",
   "execution_count": 53,
   "id": "41fc0faa-25a3-400d-bad5-350fb74b6d92",
   "metadata": {},
   "outputs": [
    {
     "data": {
      "text/plain": [
       "a      int64\n",
       "b    float64\n",
       "c     object\n",
       "d    float64\n",
       "dtype: object"
      ]
     },
     "execution_count": 53,
     "metadata": {},
     "output_type": "execute_result"
    }
   ],
   "source": [
    "CSV.dtypes"
   ]
  },
  {
   "cell_type": "code",
   "execution_count": 68,
   "id": "52f48b09-c34d-45e0-986d-8597876cd7f2",
   "metadata": {},
   "outputs": [],
   "source": [
    "data = ('index,a,b,c\\n'\n",
    "       '1,Apple,Cue,1.0Kg\\n'\n",
    "       '2,Bnana,Bowl,2 Dozen')"
   ]
  },
  {
   "cell_type": "code",
   "execution_count": 69,
   "id": "b7e8c66a-c4ba-4553-9251-5ee48c789f66",
   "metadata": {},
   "outputs": [],
   "source": [
    "csv = pd.read_csv(StringIO(data),index_col=0, usecols=['index','a','b','c'])"
   ]
  },
  {
   "cell_type": "code",
   "execution_count": 70,
   "id": "6cd6d6d1-a9ee-4e14-a3c5-1a21126762cb",
   "metadata": {},
   "outputs": [
    {
     "data": {
      "text/html": [
       "<div>\n",
       "<style scoped>\n",
       "    .dataframe tbody tr th:only-of-type {\n",
       "        vertical-align: middle;\n",
       "    }\n",
       "\n",
       "    .dataframe tbody tr th {\n",
       "        vertical-align: top;\n",
       "    }\n",
       "\n",
       "    .dataframe thead th {\n",
       "        text-align: right;\n",
       "    }\n",
       "</style>\n",
       "<table border=\"1\" class=\"dataframe\">\n",
       "  <thead>\n",
       "    <tr style=\"text-align: right;\">\n",
       "      <th></th>\n",
       "      <th>a</th>\n",
       "      <th>b</th>\n",
       "      <th>c</th>\n",
       "    </tr>\n",
       "    <tr>\n",
       "      <th>index</th>\n",
       "      <th></th>\n",
       "      <th></th>\n",
       "      <th></th>\n",
       "    </tr>\n",
       "  </thead>\n",
       "  <tbody>\n",
       "    <tr>\n",
       "      <th>1</th>\n",
       "      <td>Apple</td>\n",
       "      <td>Cue</td>\n",
       "      <td>1.0Kg</td>\n",
       "    </tr>\n",
       "    <tr>\n",
       "      <th>2</th>\n",
       "      <td>Bnana</td>\n",
       "      <td>Bowl</td>\n",
       "      <td>2 Dozen</td>\n",
       "    </tr>\n",
       "  </tbody>\n",
       "</table>\n",
       "</div>"
      ],
      "text/plain": [
       "           a     b        c\n",
       "index                      \n",
       "1      Apple   Cue    1.0Kg\n",
       "2      Bnana  Bowl  2 Dozen"
      ]
     },
     "execution_count": 70,
     "metadata": {},
     "output_type": "execute_result"
    }
   ],
   "source": [
    "csv.head()"
   ]
  },
  {
   "cell_type": "code",
   "execution_count": 71,
   "id": "dfc3f147-7088-4aba-bd9d-033f50734541",
   "metadata": {},
   "outputs": [
    {
     "data": {
      "text/plain": [
       "a    object\n",
       "b    object\n",
       "c    object\n",
       "dtype: object"
      ]
     },
     "execution_count": 71,
     "metadata": {},
     "output_type": "execute_result"
    }
   ],
   "source": [
    "csv.dtypes"
   ]
  },
  {
   "cell_type": "code",
   "execution_count": 72,
   "id": "685a4b05-0ced-4c06-a48f-1311a6537776",
   "metadata": {},
   "outputs": [
    {
     "data": {
      "text/html": [
       "<div>\n",
       "<style scoped>\n",
       "    .dataframe tbody tr th:only-of-type {\n",
       "        vertical-align: middle;\n",
       "    }\n",
       "\n",
       "    .dataframe tbody tr th {\n",
       "        vertical-align: top;\n",
       "    }\n",
       "\n",
       "    .dataframe thead th {\n",
       "        text-align: right;\n",
       "    }\n",
       "</style>\n",
       "<table border=\"1\" class=\"dataframe\">\n",
       "  <thead>\n",
       "    <tr style=\"text-align: right;\">\n",
       "      <th></th>\n",
       "      <th>a</th>\n",
       "      <th>b</th>\n",
       "      <th>c</th>\n",
       "    </tr>\n",
       "  </thead>\n",
       "  <tbody>\n",
       "    <tr>\n",
       "      <th>count</th>\n",
       "      <td>2</td>\n",
       "      <td>2</td>\n",
       "      <td>2</td>\n",
       "    </tr>\n",
       "    <tr>\n",
       "      <th>unique</th>\n",
       "      <td>2</td>\n",
       "      <td>2</td>\n",
       "      <td>2</td>\n",
       "    </tr>\n",
       "    <tr>\n",
       "      <th>top</th>\n",
       "      <td>Apple</td>\n",
       "      <td>Cue</td>\n",
       "      <td>1.0Kg</td>\n",
       "    </tr>\n",
       "    <tr>\n",
       "      <th>freq</th>\n",
       "      <td>1</td>\n",
       "      <td>1</td>\n",
       "      <td>1</td>\n",
       "    </tr>\n",
       "  </tbody>\n",
       "</table>\n",
       "</div>"
      ],
      "text/plain": [
       "            a    b      c\n",
       "count       2    2      2\n",
       "unique      2    2      2\n",
       "top     Apple  Cue  1.0Kg\n",
       "freq        1    1      1"
      ]
     },
     "execution_count": 72,
     "metadata": {},
     "output_type": "execute_result"
    }
   ],
   "source": [
    "csv.describe()"
   ]
  },
  {
   "cell_type": "code",
   "execution_count": 84,
   "id": "0a94c927-dd36-42ff-8871-72592806aab8",
   "metadata": {},
   "outputs": [
    {
     "data": {
      "text/html": [
       "<div>\n",
       "<style scoped>\n",
       "    .dataframe tbody tr th:only-of-type {\n",
       "        vertical-align: middle;\n",
       "    }\n",
       "\n",
       "    .dataframe tbody tr th {\n",
       "        vertical-align: top;\n",
       "    }\n",
       "\n",
       "    .dataframe thead th {\n",
       "        text-align: right;\n",
       "    }\n",
       "</style>\n",
       "<table border=\"1\" class=\"dataframe\">\n",
       "  <thead>\n",
       "    <tr style=\"text-align: right;\">\n",
       "      <th></th>\n",
       "    </tr>\n",
       "    <tr>\n",
       "      <th>Industry</th>\n",
       "    </tr>\n",
       "  </thead>\n",
       "  <tbody>\n",
       "    <tr>\n",
       "      <th>Accounting/Finance</th>\n",
       "    </tr>\n",
       "    <tr>\n",
       "      <th>Advertising/Public Relations</th>\n",
       "    </tr>\n",
       "    <tr>\n",
       "      <th>Aerospace/Aviation</th>\n",
       "    </tr>\n",
       "    <tr>\n",
       "      <th>Arts/Entertainment/Publishing</th>\n",
       "    </tr>\n",
       "    <tr>\n",
       "      <th>Automotive</th>\n",
       "    </tr>\n",
       "    <tr>\n",
       "      <th>Banking/Mortgage</th>\n",
       "    </tr>\n",
       "    <tr>\n",
       "      <th>Business Development</th>\n",
       "    </tr>\n",
       "    <tr>\n",
       "      <th>Business Opportunity</th>\n",
       "    </tr>\n",
       "    <tr>\n",
       "      <th>Clerical/Administrative</th>\n",
       "    </tr>\n",
       "    <tr>\n",
       "      <th>Construction/Facilities</th>\n",
       "    </tr>\n",
       "    <tr>\n",
       "      <th>Consumer Goods</th>\n",
       "    </tr>\n",
       "    <tr>\n",
       "      <th>Customer Service</th>\n",
       "    </tr>\n",
       "    <tr>\n",
       "      <th>Education/Training</th>\n",
       "    </tr>\n",
       "    <tr>\n",
       "      <th>Energy/Utilities</th>\n",
       "    </tr>\n",
       "    <tr>\n",
       "      <th>Engineering</th>\n",
       "    </tr>\n",
       "    <tr>\n",
       "      <th>Government/Military</th>\n",
       "    </tr>\n",
       "    <tr>\n",
       "      <th>Green</th>\n",
       "    </tr>\n",
       "    <tr>\n",
       "      <th>Healthcare</th>\n",
       "    </tr>\n",
       "    <tr>\n",
       "      <th>Hospitality/Travel</th>\n",
       "    </tr>\n",
       "    <tr>\n",
       "      <th>Human Resources</th>\n",
       "    </tr>\n",
       "    <tr>\n",
       "      <th>Installation/Maintenance</th>\n",
       "    </tr>\n",
       "    <tr>\n",
       "      <th>Insurance</th>\n",
       "    </tr>\n",
       "    <tr>\n",
       "      <th>Internet</th>\n",
       "    </tr>\n",
       "    <tr>\n",
       "      <th>Job Search Aids</th>\n",
       "    </tr>\n",
       "    <tr>\n",
       "      <th>Law Enforcement/Security</th>\n",
       "    </tr>\n",
       "    <tr>\n",
       "      <th>Legal</th>\n",
       "    </tr>\n",
       "    <tr>\n",
       "      <th>Management/Executive</th>\n",
       "    </tr>\n",
       "    <tr>\n",
       "      <th>Manufacturing/Operations</th>\n",
       "    </tr>\n",
       "    <tr>\n",
       "      <th>Marketing</th>\n",
       "    </tr>\n",
       "    <tr>\n",
       "      <th>Non-Profit/Volunteer</th>\n",
       "    </tr>\n",
       "    <tr>\n",
       "      <th>Pharmaceutical/Biotech</th>\n",
       "    </tr>\n",
       "    <tr>\n",
       "      <th>Professional Services</th>\n",
       "    </tr>\n",
       "    <tr>\n",
       "      <th>QA/Quality Control</th>\n",
       "    </tr>\n",
       "    <tr>\n",
       "      <th>Real Estate</th>\n",
       "    </tr>\n",
       "    <tr>\n",
       "      <th>Restaurant/Food Service</th>\n",
       "    </tr>\n",
       "    <tr>\n",
       "      <th>Retail</th>\n",
       "    </tr>\n",
       "    <tr>\n",
       "      <th>Sales</th>\n",
       "    </tr>\n",
       "    <tr>\n",
       "      <th>Science/Research</th>\n",
       "    </tr>\n",
       "    <tr>\n",
       "      <th>Skilled Labor</th>\n",
       "    </tr>\n",
       "    <tr>\n",
       "      <th>Technology</th>\n",
       "    </tr>\n",
       "    <tr>\n",
       "      <th>Telecommunications</th>\n",
       "    </tr>\n",
       "    <tr>\n",
       "      <th>Transportation/Logistics</th>\n",
       "    </tr>\n",
       "    <tr>\n",
       "      <th>Other</th>\n",
       "    </tr>\n",
       "  </tbody>\n",
       "</table>\n",
       "</div>"
      ],
      "text/plain": [
       "Empty DataFrame\n",
       "Columns: []\n",
       "Index: [Accounting/Finance, Advertising/Public Relations, Aerospace/Aviation, Arts/Entertainment/Publishing, Automotive, Banking/Mortgage, Business Development, Business Opportunity, Clerical/Administrative, Construction/Facilities, Consumer Goods, Customer Service, Education/Training, Energy/Utilities, Engineering, Government/Military, Green, Healthcare, Hospitality/Travel, Human Resources, Installation/Maintenance, Insurance, Internet, Job Search Aids, Law Enforcement/Security, Legal, Management/Executive, Manufacturing/Operations, Marketing, Non-Profit/Volunteer, Pharmaceutical/Biotech, Professional Services, QA/Quality Control, Real Estate, Restaurant/Food Service, Retail, Sales, Science/Research, Skilled Labor, Technology, Telecommunications, Transportation/Logistics, Other]"
      ]
     },
     "execution_count": 84,
     "metadata": {},
     "output_type": "execute_result"
    }
   ],
   "source": [
    "pd.read_csv('industry.csv', index_col=0)"
   ]
  }
 ],
 "metadata": {
  "kernelspec": {
   "display_name": "Python [conda env:base] *",
   "language": "python",
   "name": "conda-base-py"
  },
  "language_info": {
   "codemirror_mode": {
    "name": "ipython",
    "version": 3
   },
   "file_extension": ".py",
   "mimetype": "text/x-python",
   "name": "python",
   "nbconvert_exporter": "python",
   "pygments_lexer": "ipython3",
   "version": "3.13.5"
  }
 },
 "nbformat": 4,
 "nbformat_minor": 5
}
