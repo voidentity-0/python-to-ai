{
 "cells": [
  {
   "cell_type": "markdown",
   "id": "da3b819c-5202-4bb7-a02b-55eb3d955850",
   "metadata": {},
   "source": [
    "# Python Operators"
   ]
  },
  {
   "cell_type": "markdown",
   "id": "a513343d-4843-48c7-91ea-e2bb80938bcb",
   "metadata": {},
   "source": [
    "###  Logical Operators\n",
    "In python following keywords are used for boolean operations -\n",
    "\n",
    "|Keywords | Meaning|\n",
    "|-|-|\n",
    "|**not**|unary negation|\n",
    "|**and**|conditional AND|\n",
    "|**or**|conditional OR| \n",
    "\n",
    "**EXAMPLES**:"
   ]
  },
  {
   "cell_type": "code",
   "execution_count": 3,
   "id": "55a9bacb-4b6b-4518-85de-9b432d47a1cb",
   "metadata": {},
   "outputs": [
    {
     "data": {
      "text/plain": [
       "bool"
      ]
     },
     "execution_count": 3,
     "metadata": {},
     "output_type": "execute_result"
    }
   ],
   "source": [
    "type(True)"
   ]
  },
  {
   "cell_type": "code",
   "execution_count": 2,
   "id": "6c1fc665-7ab7-4c71-a099-3b484d0457b2",
   "metadata": {},
   "outputs": [
    {
     "data": {
      "text/plain": [
       "False"
      ]
     },
     "execution_count": 2,
     "metadata": {},
     "output_type": "execute_result"
    }
   ],
   "source": [
    "False"
   ]
  },
  {
   "cell_type": "code",
   "execution_count": 4,
   "id": "cd0ec8eb-77bf-4229-a0e7-60648ab04ad0",
   "metadata": {},
   "outputs": [
    {
     "data": {
      "text/plain": [
       "True"
      ]
     },
     "execution_count": 4,
     "metadata": {},
     "output_type": "execute_result"
    }
   ],
   "source": [
    "bool(1)"
   ]
  },
  {
   "cell_type": "code",
   "execution_count": 5,
   "id": "57dae1e5-0bae-46a5-a8dc-9a7992506c93",
   "metadata": {},
   "outputs": [],
   "source": [
    "a = True\n",
    "b = False"
   ]
  },
  {
   "cell_type": "code",
   "execution_count": 10,
   "id": "063fcff0-9c1d-45f1-a3c4-c4d82af46822",
   "metadata": {},
   "outputs": [
    {
     "data": {
      "text/plain": [
       "False"
      ]
     },
     "execution_count": 10,
     "metadata": {},
     "output_type": "execute_result"
    }
   ],
   "source": [
    "True and False        ## AND Operator"
   ]
  },
  {
   "cell_type": "code",
   "execution_count": 11,
   "id": "082d8c5e-5482-4fde-a94a-da61c6beeaf9",
   "metadata": {},
   "outputs": [
    {
     "data": {
      "text/plain": [
       "True"
      ]
     },
     "execution_count": 11,
     "metadata": {},
     "output_type": "execute_result"
    }
   ],
   "source": [
    "True or False         ## OR Operator"
   ]
  },
  {
   "cell_type": "code",
   "execution_count": 12,
   "id": "4650fab0-0cc3-43bf-8002-6e412ea90b05",
   "metadata": {},
   "outputs": [
    {
     "data": {
      "text/plain": [
       "False"
      ]
     },
     "execution_count": 12,
     "metadata": {},
     "output_type": "execute_result"
    }
   ],
   "source": [
    "not True              ## Unary Negation  |   \"Opposite Operator\""
   ]
  },
  {
   "cell_type": "code",
   "execution_count": 13,
   "id": "698f58f7-0f81-4671-859a-0d21316691d0",
   "metadata": {
    "scrolled": true
   },
   "outputs": [
    {
     "data": {
      "text/plain": [
       "True"
      ]
     },
     "execution_count": 13,
     "metadata": {},
     "output_type": "execute_result"
    }
   ],
   "source": [
    "not False"
   ]
  },
  {
   "cell_type": "code",
   "execution_count": 18,
   "id": "fe558326-568b-43de-b95c-f7bb5266beb9",
   "metadata": {},
   "outputs": [
    {
     "name": "stdin",
     "output_type": "stream",
     "text": [
      "Enter Age 21\n"
     ]
    },
    {
     "name": "stdout",
     "output_type": "stream",
     "text": [
      "Approved\n"
     ]
    }
   ],
   "source": [
    "age = int(input(\"Enter Age\"))\n",
    "if (age > 18 and age <= 25):\n",
    "    print (\"Approved\")"
   ]
  },
  {
   "cell_type": "code",
   "execution_count": 17,
   "id": "5b372412-9566-4b28-b4c0-0b26409c2c56",
   "metadata": {},
   "outputs": [
    {
     "name": "stdin",
     "output_type": "stream",
     "text": [
      "Enter Age 17\n"
     ]
    },
    {
     "name": "stdout",
     "output_type": "stream",
     "text": [
      "Not Approved\n"
     ]
    }
   ],
   "source": [
    "age = int(input(\"Enter Age\"))\n",
    "if (age < 18 or age >= 25):\n",
    "    print (\"Not Approved\")"
   ]
  },
  {
   "cell_type": "markdown",
   "id": "0e8b9783-bbc9-4a59-b1c5-4fb2cba6cc10",
   "metadata": {},
   "source": [
    "### Equality Operators\n",
    "\n",
    "Following operations are present in python for equlity check operation-\n",
    "\n",
    "|Operators|Meaning|\n",
    "|-|-|\n",
    "|**is**|***a is b*** returns true if variable/identifiers a and b *points* to the *same object*|\n",
    "|**is not**|***a is not b*** returns true if variable/identifiers a and b *points* to the *different object*|\n",
    "|**==**|***a == b*** returns true if variable/identifiers a and b has same value|\n",
    "|**!=**|***a != b*** returns true if variable/identifiers a and b has different value|"
   ]
  },
  {
   "cell_type": "code",
   "execution_count": 91,
   "id": "8c33458f-4aed-485b-ac34-b2e468d31528",
   "metadata": {},
   "outputs": [
    {
     "data": {
      "text/plain": [
       "True"
      ]
     },
     "execution_count": 91,
     "metadata": {},
     "output_type": "execute_result"
    }
   ],
   "source": [
    "a = \"Ahmad\"       ## == Operator   \"Check the Value , if Same \"\n",
    "b = \"Ahmad\"\n",
    "a == b"
   ]
  },
  {
   "cell_type": "code",
   "execution_count": 21,
   "id": "0360b47a-7f09-40a2-89e4-6132ca80c76d",
   "metadata": {},
   "outputs": [
    {
     "data": {
      "text/plain": [
       "False"
      ]
     },
     "execution_count": 21,
     "metadata": {},
     "output_type": "execute_result"
    }
   ],
   "source": [
    "a = \"Ahmad\"      \n",
    "b = \"Ahmad1\"\n",
    "\n",
    "a == b"
   ]
  },
  {
   "cell_type": "code",
   "execution_count": 22,
   "id": "0b31cdec-578f-4c4c-b998-59bc9d7ebfd2",
   "metadata": {},
   "outputs": [
    {
     "name": "stdin",
     "output_type": "stream",
     "text": [
      "Enter Age 18\n"
     ]
    },
    {
     "name": "stdout",
     "output_type": "stream",
     "text": [
      "Teenage\n"
     ]
    }
   ],
   "source": [
    "age = int(input(\"Enter Age\"))\n",
    "if age == 18:\n",
    "    print (\"Teenage\")"
   ]
  },
  {
   "cell_type": "code",
   "execution_count": 89,
   "id": "e703ce80-91a9-4ed0-8ad5-b1641440c9e9",
   "metadata": {},
   "outputs": [
    {
     "name": "stdout",
     "output_type": "stream",
     "text": [
      "1795212685888\n",
      "1795212685888\n"
     ]
    }
   ],
   "source": [
    "a = \"Ahmad\"        ## is Operator     \"Check the Object or Memory Value, if same or not\" \n",
    "b = \"Ahmad\"\n",
    "print(id(a))\n",
    "print(id(b))"
   ]
  },
  {
   "cell_type": "code",
   "execution_count": 25,
   "id": "ebdab3a8-59bd-4bce-a3a9-c13532226b8c",
   "metadata": {},
   "outputs": [
    {
     "data": {
      "text/plain": [
       "True"
      ]
     },
     "execution_count": 25,
     "metadata": {},
     "output_type": "execute_result"
    }
   ],
   "source": [
    "a is b"
   ]
  },
  {
   "cell_type": "code",
   "execution_count": 26,
   "id": "52bdfb68-65cf-46c8-83b6-54d29c6298dd",
   "metadata": {},
   "outputs": [
    {
     "name": "stdout",
     "output_type": "stream",
     "text": [
      "1795174830528\n",
      "1795212903040\n"
     ]
    }
   ],
   "source": [
    "lst = [1,0,3,4]\n",
    "lst1 = [1,0,3,4]\n",
    "print (id(lst))\n",
    "print (id(lst1))"
   ]
  },
  {
   "cell_type": "code",
   "execution_count": 27,
   "id": "23507f6e-38cf-46a0-b282-53d48e6be230",
   "metadata": {},
   "outputs": [
    {
     "data": {
      "text/plain": [
       "False"
      ]
     },
     "execution_count": 27,
     "metadata": {},
     "output_type": "execute_result"
    }
   ],
   "source": [
    "lst is lst1"
   ]
  },
  {
   "cell_type": "code",
   "execution_count": 29,
   "id": "97189966-788f-4435-986e-43044726f02c",
   "metadata": {},
   "outputs": [
    {
     "data": {
      "text/plain": [
       "True"
      ]
     },
     "execution_count": 29,
     "metadata": {},
     "output_type": "execute_result"
    }
   ],
   "source": [
    "lst == lst1"
   ]
  },
  {
   "cell_type": "code",
   "execution_count": 31,
   "id": "0f27a021-b06b-469f-8957-7fa950492b0c",
   "metadata": {},
   "outputs": [
    {
     "data": {
      "text/plain": [
       "True"
      ]
     },
     "execution_count": 31,
     "metadata": {},
     "output_type": "execute_result"
    }
   ],
   "source": [
    "lst is not lst1        ## is not Operator   |   \"Opposite Operator\""
   ]
  },
  {
   "cell_type": "code",
   "execution_count": 35,
   "id": "0f3d76ff-5a2e-4995-92c7-29556f4864da",
   "metadata": {},
   "outputs": [
    {
     "data": {
      "text/plain": [
       "False"
      ]
     },
     "execution_count": 35,
     "metadata": {},
     "output_type": "execute_result"
    }
   ],
   "source": [
    "lst != lst1            ## != Operator      |   \"not Equal\""
   ]
  },
  {
   "cell_type": "code",
   "execution_count": 36,
   "id": "1915d5ef-7454-4796-a0da-d263701aeb82",
   "metadata": {},
   "outputs": [
    {
     "data": {
      "text/plain": [
       "True"
      ]
     },
     "execution_count": 36,
     "metadata": {},
     "output_type": "execute_result"
    }
   ],
   "source": [
    "\"Ahmad\" != \"Ali\""
   ]
  },
  {
   "cell_type": "markdown",
   "id": "74328159-ca63-449d-bad0-a44d4b2823e3",
   "metadata": {},
   "source": [
    "## comparison operators\n",
    "|Operation|Meaning|\n",
    "|:-:|:-:|\n",
    "| **<** |less than|\n",
    "| **<=** |less than or equal to|\n",
    "| **>** |greater than|\n",
    "| **>=** |greater than or equal to|"
   ]
  },
  {
   "cell_type": "code",
   "execution_count": 77,
   "id": "bbc0f091-6f2b-4db9-a65d-b865f679aad6",
   "metadata": {},
   "outputs": [
    {
     "name": "stdin",
     "output_type": "stream",
     "text": [
      "Enter Your Marks 98\n"
     ]
    },
    {
     "name": "stdout",
     "output_type": "stream",
     "text": [
      "Pass\n",
      "A+ Grade\n"
     ]
    }
   ],
   "source": [
    "marks = float(input(\"Enter Your Marks\"))\n",
    "if marks >= 33:\n",
    "    print (\"Pass\")\n",
    "    if marks >= 50 and marks <= 65:\n",
    "        print (\"D Grade\")\n",
    "    elif marks > 65 and marks <= 80:\n",
    "         print (\"C Grade\")\n",
    "    elif marks > 80 and marks <=90:\n",
    "        print (\"B Grade\")\n",
    "    elif marks >90 and marks <= 95:\n",
    "        print (\"A Grade\")\n",
    "    elif marks > 95:\n",
    "        print (\"A+ Grade\")\n",
    "elif marks < 33:\n",
    "    print (\"Fail\")\n",
    "    print (\"F Grade\")"
   ]
  },
  {
   "cell_type": "markdown",
   "id": "903af07b-f49b-4593-bfc1-a4a5d727f053",
   "metadata": {},
   "source": [
    "## Arithmetic Operators\n",
    "|Operation|Meaning|\n",
    "|:-:|:-:|\n",
    "| **+** |addition|\n",
    "| **-** |subtraction|\n",
    "| **\\*** |multiplication|\n",
    "| **/** |true division|\n",
    "| **//** |integer division|\n",
    "| **%** |the modulo operator|"
   ]
  },
  {
   "cell_type": "code",
   "execution_count": 79,
   "id": "8df3ab3d-7c31-4abf-acaa-f950b7cd03ab",
   "metadata": {
    "collapsed": true,
    "jupyter": {
     "outputs_hidden": true
    }
   },
   "outputs": [
    {
     "data": {
      "text/plain": [
       "70"
      ]
     },
     "execution_count": 79,
     "metadata": {},
     "output_type": "execute_result"
    }
   ],
   "source": [
    "48 + 22    ## Add Operator"
   ]
  },
  {
   "cell_type": "code",
   "execution_count": 80,
   "id": "3011cd07-9ab7-431d-8b3b-5840d3bd1f25",
   "metadata": {},
   "outputs": [
    {
     "data": {
      "text/plain": [
       "26"
      ]
     },
     "execution_count": 80,
     "metadata": {},
     "output_type": "execute_result"
    }
   ],
   "source": [
    "48 - 22    ## Sub Operator"
   ]
  },
  {
   "cell_type": "code",
   "execution_count": 81,
   "id": "e2db1982-2217-422f-b6f6-140698ef076c",
   "metadata": {},
   "outputs": [
    {
     "data": {
      "text/plain": [
       "66"
      ]
     },
     "execution_count": 81,
     "metadata": {},
     "output_type": "execute_result"
    }
   ],
   "source": [
    "33 * 2     ## Multi Operator"
   ]
  },
  {
   "cell_type": "code",
   "execution_count": 84,
   "id": "3459d69a-feca-4927-b4a2-a23317411d39",
   "metadata": {},
   "outputs": [
    {
     "data": {
      "text/plain": [
       "1"
      ]
     },
     "execution_count": 84,
     "metadata": {},
     "output_type": "execute_result"
    }
   ],
   "source": [
    "45 % 2     ## Modulo Operator"
   ]
  },
  {
   "cell_type": "code",
   "execution_count": 85,
   "id": "842fad04-d5a7-47a4-b829-0d77e645ce7e",
   "metadata": {},
   "outputs": [
    {
     "data": {
      "text/plain": [
       "11.0"
      ]
     },
     "execution_count": 85,
     "metadata": {},
     "output_type": "execute_result"
    }
   ],
   "source": [
    "22 / 2     ## Division Operator"
   ]
  },
  {
   "cell_type": "code",
   "execution_count": 87,
   "id": "a4c4ef1f-b842-4709-b309-b9a8cbba2d36",
   "metadata": {},
   "outputs": [
    {
     "data": {
      "text/plain": [
       "11"
      ]
     },
     "execution_count": 87,
     "metadata": {},
     "output_type": "execute_result"
    }
   ],
   "source": [
    "22 // 2    ## integer Division   \"Give the Value with point\""
   ]
  },
  {
   "cell_type": "code",
   "execution_count": null,
   "id": "66217617-a036-4bd9-a235-6c1aaaa84790",
   "metadata": {},
   "outputs": [],
   "source": []
  }
 ],
 "metadata": {
  "kernelspec": {
   "display_name": "Python [conda env:base] *",
   "language": "python",
   "name": "conda-base-py"
  },
  "language_info": {
   "codemirror_mode": {
    "name": "ipython",
    "version": 3
   },
   "file_extension": ".py",
   "mimetype": "text/x-python",
   "name": "python",
   "nbconvert_exporter": "python",
   "pygments_lexer": "ipython3",
   "version": "3.13.5"
  }
 },
 "nbformat": 4,
 "nbformat_minor": 5
}
